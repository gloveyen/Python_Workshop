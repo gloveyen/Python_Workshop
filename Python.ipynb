{
 "cells": [
  {
   "cell_type": "markdown",
   "metadata": {},
   "source": [
    "# Original Python Data Analysis\n",
    "### Python Fundimental"
   ]
  },
  {
   "cell_type": "markdown",
   "metadata": {},
   "source": [
    "#### 變數 Variables\n",
    "變數就像是我們的名字一樣，對電腦而言，也需要名字或是代號去記憶東西，只是在computer science的領域中，通常習慣稱這些「名字」為「變數」"
   ]
  },
  {
   "cell_type": "code",
   "execution_count": 1,
   "metadata": {},
   "outputs": [
    {
     "name": "stdout",
     "output_type": "stream",
     "text": [
      "1\n",
      "2\n",
      "3\n",
      "4.1\n"
     ]
    }
   ],
   "source": [
    "a = 1\n",
    "b = 2\n",
    "c = '3'\n",
    "d = 4.1\n",
    "print(a)\n",
    "print(b)\n",
    "print(c)\n",
    "print(d)"
   ]
  },
  {
   "cell_type": "markdown",
   "metadata": {},
   "source": [
    "#### 型別 Type\n",
    "要能區別文字與數字一般來說並不難，但如果是要區分「沒有數字意義的數字」對電腦來說卻不簡單，所以需要利用「型別」去幫助電腦做判斷，告訴電腦這個東西是數值還是字串<br>\n",
    "＃要能夠加減需要為同型別，不同型別的變數進行計算需要改變型別"
   ]
  },
  {
   "cell_type": "markdown",
   "metadata": {},
   "source": [
    "型別：str(字串)"
   ]
  },
  {
   "cell_type": "code",
   "execution_count": 2,
   "metadata": {},
   "outputs": [
    {
     "name": "stdout",
     "output_type": "stream",
     "text": [
      "<class 'str'>\n",
      "<class 'str'>\n"
     ]
    }
   ],
   "source": [
    "print(type(\"二\"))\n",
    "print(type(\"23\"))"
   ]
  },
  {
   "cell_type": "markdown",
   "metadata": {},
   "source": [
    "型別：int(整數)"
   ]
  },
  {
   "cell_type": "code",
   "execution_count": 3,
   "metadata": {},
   "outputs": [
    {
     "name": "stdout",
     "output_type": "stream",
     "text": [
      "<class 'int'>\n"
     ]
    }
   ],
   "source": [
    "print(type(235))"
   ]
  },
  {
   "cell_type": "markdown",
   "metadata": {},
   "source": [
    "型別：float(浮點數/小數)"
   ]
  },
  {
   "cell_type": "code",
   "execution_count": 4,
   "metadata": {},
   "outputs": [
    {
     "name": "stdout",
     "output_type": "stream",
     "text": [
      "<class 'float'>\n"
     ]
    }
   ],
   "source": [
    "print(type(23.5))"
   ]
  },
  {
   "cell_type": "markdown",
   "metadata": {},
   "source": [
    "型別：bool(布林值)"
   ]
  },
  {
   "cell_type": "code",
   "execution_count": 5,
   "metadata": {},
   "outputs": [
    {
     "name": "stdout",
     "output_type": "stream",
     "text": [
      "<class 'bool'>\n",
      "<class 'bool'>\n"
     ]
    }
   ],
   "source": [
    "print(type(True))\n",
    "print(type(False))"
   ]
  },
  {
   "cell_type": "markdown",
   "metadata": {},
   "source": [
    "#### 型別轉換\n",
    "在Python中型別是可以轉換的，像是文字的\"1\"可以轉換為整數的1，不過也會發生無法轉換的時候，像是如果我們想把字串\"wew\"主換為整數，但wew都是文字無法轉換為數值，所以電腦會回傳一個ValueError告訴你無法進行轉換"
   ]
  },
  {
   "cell_type": "code",
   "execution_count": 6,
   "metadata": {},
   "outputs": [
    {
     "name": "stdout",
     "output_type": "stream",
     "text": [
      "23\n",
      "2.3\n",
      "2\n"
     ]
    }
   ],
   "source": [
    "print(int(\"23\"))\n",
    "print(float(\"2.3\"))\n",
    "print(int(2.44))\n",
    "# print(int(\"wew\"))"
   ]
  },
  {
   "cell_type": "markdown",
   "metadata": {},
   "source": [
    "#### 運算/運算子\n",
    "讓電腦進行加減乘除或是比較數值大小之類的任務"
   ]
  },
  {
   "cell_type": "markdown",
   "metadata": {},
   "source": [
    "- 數值運算(加，減，乘，除，整除，餘數)"
   ]
  },
  {
   "cell_type": "code",
   "execution_count": 7,
   "metadata": {
    "scrolled": true
   },
   "outputs": [
    {
     "name": "stdout",
     "output_type": "stream",
     "text": [
      "a+b = 13\n",
      "a-b = 7\n",
      "a*b = 30\n",
      "a/b = 3.3333333333333335\n",
      "a//b = 3\n",
      "a%b = 1\n"
     ]
    }
   ],
   "source": [
    "\"\"\"數值運算\"\"\"\n",
    "a = 10\n",
    "b = 3\n",
    "print(\"a+b =\",a+b)\n",
    "print(\"a-b =\",a-b)\n",
    "print(\"a*b =\",a*b)\n",
    "print(\"a/b =\",a/b)\n",
    "print(\"a//b =\",a//b)\n",
    "print(\"a%b =\",a%b)"
   ]
  },
  {
   "cell_type": "markdown",
   "metadata": {},
   "source": [
    "- 賦值運算(當變數自己需要運算時)"
   ]
  },
  {
   "cell_type": "code",
   "execution_count": 8,
   "metadata": {},
   "outputs": [
    {
     "name": "stdout",
     "output_type": "stream",
     "text": [
      "20\n"
     ]
    }
   ],
   "source": [
    "\"\"\"賦值運算\"\"\"\n",
    "a = a+10\n",
    "# a+=10\n",
    "print(a)"
   ]
  },
  {
   "cell_type": "markdown",
   "metadata": {},
   "source": [
    "- 字串運算(字串連接，字串重複)"
   ]
  },
  {
   "cell_type": "code",
   "execution_count": 9,
   "metadata": {},
   "outputs": [
    {
     "name": "stdout",
     "output_type": "stream",
     "text": [
      "我是一個字串我是一個字串我是一個字串我是一個字串我是一個字串\n",
      "我是一個字串yo\n"
     ]
    }
   ],
   "source": [
    "\"\"\"字串運算\"\"\"\n",
    "c1 = \"我是一個字串\"\n",
    "c2 = \"yo\"\n",
    "print(c1*5)\n",
    "print(c1+c2)"
   ]
  },
  {
   "cell_type": "markdown",
   "metadata": {},
   "source": [
    "- 比較運算(結果為布林值)"
   ]
  },
  {
   "cell_type": "code",
   "execution_count": 10,
   "metadata": {},
   "outputs": [
    {
     "name": "stdout",
     "output_type": "stream",
     "text": [
      "a==b False\n",
      "a!=b True\n",
      "a>b True\n",
      "a<=b False\n"
     ]
    }
   ],
   "source": [
    "\"\"\"比較\"\"\"\n",
    "print(\"a==b\",a==b)\n",
    "print(\"a!=b\",a!=b)\n",
    "print(\"a>b\",a>b)\n",
    "print(\"a<=b\",a<=b)"
   ]
  },
  {
   "cell_type": "markdown",
   "metadata": {},
   "source": [
    "布林值：電腦表示「真（對）」或是「假（錯）」的方式，分為True與False"
   ]
  },
  {
   "cell_type": "code",
   "execution_count": 11,
   "metadata": {},
   "outputs": [
    {
     "name": "stdout",
     "output_type": "stream",
     "text": [
      "False\n"
     ]
    }
   ],
   "source": [
    "d = 1\n",
    "e = 2\n",
    "equle = d==e\n",
    "print(equle)"
   ]
  },
  {
   "cell_type": "markdown",
   "metadata": {},
   "source": [
    "#### 資料結構 Collection\n",
    "如果電腦要一次記住大量且有結構性的資料時，使用一大堆變數去處理似乎有點太複雜，如果把這些資料一次打包該有多好！所以出現了資料結構。\n",
    "常出現的資料結構分別有串列(list),元組(tuple),字典(dict)"
   ]
  },
  {
   "cell_type": "code",
   "execution_count": 12,
   "metadata": {},
   "outputs": [],
   "source": [
    "li = [1,2,3,4,5,6]\n",
    "tup = (1,2,3,4,5,6)\n",
    "di = {'a':'A','b':'B','c':'C'}"
   ]
  },
  {
   "cell_type": "code",
   "execution_count": 13,
   "metadata": {},
   "outputs": [
    {
     "name": "stdout",
     "output_type": "stream",
     "text": [
      "list的第一個元素：1\n",
      "tuple的第一個元素：1\n",
      "dict key值為a的value：A\n"
     ]
    }
   ],
   "source": [
    "print('list的第一個元素：'+str(li[0]))\n",
    "print('tuple的第一個元素：'+str(tup[0]))\n",
    "print('dict key值為a的value：'+str(di['a']))"
   ]
  },
  {
   "cell_type": "code",
   "execution_count": 14,
   "metadata": {
    "scrolled": true
   },
   "outputs": [
    {
     "name": "stdout",
     "output_type": "stream",
     "text": [
      "[1, 2, 3, 4, 5, 6, 0, 9, 8]\n",
      "(1, 2, 3, 4, 5, 6, 0, 0, 0)\n"
     ]
    }
   ],
   "source": [
    "print(li+[0,9,8])\n",
    "print(tup+(0,0,0))"
   ]
  },
  {
   "cell_type": "markdown",
   "metadata": {},
   "source": [
    "#### if-else判斷式"
   ]
  },
  {
   "cell_type": "markdown",
   "metadata": {},
   "source": [
    "紙箱大小 => box_width = 90"
   ]
  },
  {
   "cell_type": "code",
   "execution_count": 15,
   "metadata": {},
   "outputs": [
    {
     "name": "stdout",
     "output_type": "stream",
     "text": [
      "這是大紙箱\n"
     ]
    }
   ],
   "source": [
    "box_width = 90\n",
    "if box_width>80:\n",
    "    print('這是大紙箱')\n",
    "else:\n",
    "    print('這是小紙箱')"
   ]
  },
  {
   "cell_type": "code",
   "execution_count": 16,
   "metadata": {},
   "outputs": [
    {
     "name": "stdout",
     "output_type": "stream",
     "text": [
      "這是50公分的特規紙箱\n"
     ]
    }
   ],
   "source": [
    "box_width = 50\n",
    "\n",
    "if box_width>80:\n",
    "    print('這是大紙箱')\n",
    "elif box_width==50:\n",
    "    print('這是50公分的特規紙箱')\n",
    "else:\n",
    "    print('這是小紙箱')"
   ]
  },
  {
   "cell_type": "markdown",
   "metadata": {},
   "source": [
    "#### 迴圈 Loop\n",
    "自處理大量資料時常會有不同的情況對應不同的處理方法，以及大量的相同作業，為了節省時間跟效率，我們會使用迴圈去避免一直打相同的code，提升我們的工作效率"
   ]
  },
  {
   "cell_type": "markdown",
   "metadata": {},
   "source": [
    "#### for迴圈"
   ]
  },
  {
   "cell_type": "markdown",
   "metadata": {},
   "source": [
    "身高 => tall = [175,160,183,188,168,177,179]"
   ]
  },
  {
   "cell_type": "code",
   "execution_count": 17,
   "metadata": {},
   "outputs": [
    {
     "name": "stdout",
     "output_type": "stream",
     "text": [
      "175\n",
      "160\n",
      "183\n",
      "188\n",
      "168\n",
      "177\n",
      "179\n"
     ]
    }
   ],
   "source": [
    "tall = [175,160,183,188,168,177,179]\n",
    "for e in tall:\n",
    "    print(e)"
   ]
  },
  {
   "cell_type": "code",
   "execution_count": 18,
   "metadata": {},
   "outputs": [
    {
     "name": "stdout",
     "output_type": "stream",
     "text": [
      "275\n",
      "260\n",
      "283\n",
      "288\n",
      "268\n",
      "277\n",
      "279\n"
     ]
    }
   ],
   "source": [
    "for e in tall:\n",
    "    print(e+100)"
   ]
  },
  {
   "cell_type": "code",
   "execution_count": 19,
   "metadata": {},
   "outputs": [
    {
     "name": "stdout",
     "output_type": "stream",
     "text": [
      "0 0\n",
      "0 1\n",
      "0 2\n",
      "0 3\n",
      "0 4\n",
      "1 0\n",
      "1 1\n",
      "1 2\n",
      "1 3\n",
      "1 4\n",
      "2 0\n",
      "2 1\n",
      "2 2\n",
      "2 3\n",
      "2 4\n",
      "3 0\n",
      "3 1\n",
      "3 2\n",
      "3 3\n",
      "3 4\n",
      "4 0\n",
      "4 1\n",
      "4 2\n",
      "4 3\n",
      "4 4\n"
     ]
    }
   ],
   "source": [
    "for e in range(0,5):\n",
    "    for i in range(0,5):\n",
    "        print(e,i)"
   ]
  },
  {
   "cell_type": "markdown",
   "metadata": {},
   "source": [
    "### 練習一 (九九乘法表)\n",
    "嘗試使用for迴圈印出九九乘法表(不論格式)"
   ]
  },
  {
   "cell_type": "code",
   "execution_count": 20,
   "metadata": {},
   "outputs": [
    {
     "name": "stdout",
     "output_type": "stream",
     "text": [
      "1x1=1\n",
      "1x2=2\n",
      "1x3=3\n",
      "1x4=4\n",
      "1x5=5\n",
      "1x6=6\n",
      "1x7=7\n",
      "1x8=8\n",
      "1x9=9\n",
      "2x1=2\n",
      "2x2=4\n",
      "2x3=6\n",
      "2x4=8\n",
      "2x5=10\n",
      "2x6=12\n",
      "2x7=14\n",
      "2x8=16\n",
      "2x9=18\n",
      "3x1=3\n",
      "3x2=6\n",
      "3x3=9\n",
      "3x4=12\n",
      "3x5=15\n",
      "3x6=18\n",
      "3x7=21\n",
      "3x8=24\n",
      "3x9=27\n",
      "4x1=4\n",
      "4x2=8\n",
      "4x3=12\n",
      "4x4=16\n",
      "4x5=20\n",
      "4x6=24\n",
      "4x7=28\n",
      "4x8=32\n",
      "4x9=36\n",
      "5x1=5\n",
      "5x2=10\n",
      "5x3=15\n",
      "5x4=20\n",
      "5x5=25\n",
      "5x6=30\n",
      "5x7=35\n",
      "5x8=40\n",
      "5x9=45\n",
      "6x1=6\n",
      "6x2=12\n",
      "6x3=18\n",
      "6x4=24\n",
      "6x5=30\n",
      "6x6=36\n",
      "6x7=42\n",
      "6x8=48\n",
      "6x9=54\n",
      "7x1=7\n",
      "7x2=14\n",
      "7x3=21\n",
      "7x4=28\n",
      "7x5=35\n",
      "7x6=42\n",
      "7x7=49\n",
      "7x8=56\n",
      "7x9=63\n",
      "8x1=8\n",
      "8x2=16\n",
      "8x3=24\n",
      "8x4=32\n",
      "8x5=40\n",
      "8x6=48\n",
      "8x7=56\n",
      "8x8=64\n",
      "8x9=72\n",
      "9x1=9\n",
      "9x2=18\n",
      "9x3=27\n",
      "9x4=36\n",
      "9x5=45\n",
      "9x6=54\n",
      "9x7=63\n",
      "9x8=72\n",
      "9x9=81\n"
     ]
    }
   ],
   "source": [
    "for e in range(1,10):\n",
    "    for i in range(1,10):\n",
    "        print(str(e)+'x'+str(i)+'='+str(e*i))"
   ]
  },
  {
   "cell_type": "markdown",
   "metadata": {},
   "source": [
    "使用for迴圈處理dict()物件"
   ]
  },
  {
   "cell_type": "code",
   "execution_count": 21,
   "metadata": {},
   "outputs": [
    {
     "name": "stdout",
     "output_type": "stream",
     "text": [
      "{'a': 'A', 'b': 'B', 'c': 'C'}\n",
      "a\n",
      "b\n",
      "c\n"
     ]
    }
   ],
   "source": [
    "print(di)\n",
    "for e in di:\n",
    "    print(e)  #物件會回傳每一個鍵值並遍歷"
   ]
  },
  {
   "cell_type": "code",
   "execution_count": 22,
   "metadata": {},
   "outputs": [
    {
     "name": "stdout",
     "output_type": "stream",
     "text": [
      "a:A\n",
      "b:B\n",
      "c:C\n"
     ]
    }
   ],
   "source": [
    "for e in di:\n",
    "    print(e+':'+di[e])"
   ]
  },
  {
   "cell_type": "markdown",
   "metadata": {},
   "source": [
    "#### 函式 Function\n",
    "Python本身整合了許多基本功能與常用功能，像是串列加總、列印......等，這些功能讓我們可以靈活運用各種型別與資料結構完成我們的任務"
   ]
  },
  {
   "cell_type": "markdown",
   "metadata": {},
   "source": [
    "### print( )的各種操作格式變化\n",
    "print()算是python中最基本但也最重要的方法，它可以讓電腦表示變數或是資料結構是什麼樣子，在一些比較抽象的操作方式上會有很大的幫助，像是操作迴圈或是物件甚至是資料結構的運用，而print()其實有非常多種的變化，以因應各種情況"
   ]
  },
  {
   "cell_type": "markdown",
   "metadata": {},
   "source": [
    "### 基本用法：\n",
    "最基本的print()使用方法就是直接把要顯示的東西放進print()中，不過要記得，不同的型別是不能加總的，字串+字串電腦會把兩者接在一起，而數值加數值電腦則會顯示兩者的總和\n",
    "- 字串+字串\n",
    "- 數字+數字"
   ]
  },
  {
   "cell_type": "code",
   "execution_count": 23,
   "metadata": {},
   "outputs": [
    {
     "name": "stdout",
     "output_type": "stream",
     "text": [
      "文字1文字2\n"
     ]
    }
   ],
   "source": [
    "print('文字1'+'文字2')"
   ]
  },
  {
   "cell_type": "code",
   "execution_count": 24,
   "metadata": {},
   "outputs": [
    {
     "name": "stdout",
     "output_type": "stream",
     "text": [
      "6\n"
     ]
    }
   ],
   "source": [
    "print(1+5)"
   ]
  },
  {
   "cell_type": "markdown",
   "metadata": {},
   "source": [
    "如果想要讓字串與數字同時使用同一個print()做顯示，有兩種辦法：\n",
    "- 方法一：將數值利用str()轉換型別為字串，再利用+號進行串接\n",
    "- 方法二：利用逗號(,)直接串接兩者，不過在顯示的結果可以注意到，電腦會把逗號的位置顯示為空格，所以如果有特殊的格式需求，這種方法比較不推薦"
   ]
  },
  {
   "cell_type": "code",
   "execution_count": 25,
   "metadata": {},
   "outputs": [
    {
     "name": "stdout",
     "output_type": "stream",
     "text": [
      "一加一等於：2\n"
     ]
    }
   ],
   "source": [
    "print('一加一等於：'+str(1+1))"
   ]
  },
  {
   "cell_type": "code",
   "execution_count": 26,
   "metadata": {},
   "outputs": [
    {
     "name": "stdout",
     "output_type": "stream",
     "text": [
      "一加一等於： 2\n"
     ]
    }
   ],
   "source": [
    "print('一加一等於：',2)"
   ]
  },
  {
   "cell_type": "markdown",
   "metadata": {},
   "source": [
    "### Format方法\n",
    "因應可能會出現不同型別的變數在一個print()中顯示的情況，python提供了另一種特殊方法可以讓整包print()不會變得太過複雜，只需要先建立格式的字串並在後面使用.format()，並在format()中依序放入要顯示的文字或數值即可"
   ]
  },
  {
   "cell_type": "code",
   "execution_count": 27,
   "metadata": {},
   "outputs": [
    {
     "name": "stdout",
     "output_type": "stream",
     "text": [
      "10除以(1+2)大約等於3.333\n"
     ]
    }
   ],
   "source": [
    "a = '1'\n",
    "b = 2\n",
    "c = 3.333\n",
    "print('10除以('+a+'+'+str(b)+')大約等於'+str(c))"
   ]
  },
  {
   "cell_type": "code",
   "execution_count": 28,
   "metadata": {},
   "outputs": [
    {
     "name": "stdout",
     "output_type": "stream",
     "text": [
      "10除以(1+2)大約等於3.333\n"
     ]
    }
   ],
   "source": [
    "print('10除以({}+{})大約等於{}'.format(a,b,c))"
   ]
  },
  {
   "cell_type": "markdown",
   "metadata": {},
   "source": [
    "### Fstring方法\n",
    "建立於Format()上，因為要先建立格式再寫入數值還是有點麻煩，所以後來python直接把格式跟引入數值整合在一起，變成Fstring，只要再字串前面將上f，即可直接使用"
   ]
  },
  {
   "cell_type": "code",
   "execution_count": 29,
   "metadata": {},
   "outputs": [
    {
     "name": "stdout",
     "output_type": "stream",
     "text": [
      "10除以(1+2)大約等於3.333\n"
     ]
    }
   ],
   "source": [
    "print(f'10除以({a}+{b})大約等於{c}')"
   ]
  },
  {
   "cell_type": "markdown",
   "metadata": {},
   "source": [
    "### 數值格式\n",
    "上面主要是介紹各式各樣的顯示方法，然而，在python中針對數值也有格式上的顯示設定方式，主要會使用到符號「％」，以及英文縮寫符號代表不同的數值，下面有兩種比較常用的格式\n",
    "- %d => 整數\n",
    "- %f => 浮點數"
   ]
  },
  {
   "cell_type": "markdown",
   "metadata": {},
   "source": [
    "#### %d整數格式\n",
    "整數格式有幾種情況：\n",
    "- 補零整數格式，也就是當我們希望所有印出來的整數長度都是一致的時候，我們可以讓數字的前面補上零或是空格，使用方法很簡單只要在%後面放上0或是空格，接著再寫上你要顯示的位數即可"
   ]
  },
  {
   "cell_type": "code",
   "execution_count": 30,
   "metadata": {},
   "outputs": [
    {
     "name": "stdout",
     "output_type": "stream",
     "text": [
      "這格數值是000033333\n"
     ]
    }
   ],
   "source": [
    "# 補零的九位整數\n",
    "print('這格數值是%09d' %33333)"
   ]
  },
  {
   "cell_type": "code",
   "execution_count": 31,
   "metadata": {},
   "outputs": [
    {
     "name": "stdout",
     "output_type": "stream",
     "text": [
      "這格數值是    33333\n"
     ]
    }
   ],
   "source": [
    "# 補空格的九位整數\n",
    "print('這格數值是% 9d' %33333)"
   ]
  },
  {
   "cell_type": "markdown",
   "metadata": {},
   "source": [
    "#### %f浮點數格式\n",
    "浮點數格式則會分為全部部分與小數點後部分，所以在%之後會用小數點（.）做區分，小數點前代表全部總共要顯示的位數（韓小數點本身），也可以選擇補零或空格，但無法補零，使用方式跟%d的概念是一樣的，而小數點之後則代表要顯示小數點後幾位，所以使用起來會像是這樣的格式「%6.3f」"
   ]
  },
  {
   "cell_type": "code",
   "execution_count": 32,
   "metadata": {},
   "outputs": [
    {
     "name": "stdout",
     "output_type": "stream",
     "text": [
      "這格數值是 3.142\n"
     ]
    }
   ],
   "source": [
    "#總共顯示6位，小數點後顯示三位\n",
    "print('這格數值是%6.3f' %3.1415926)"
   ]
  },
  {
   "cell_type": "code",
   "execution_count": 33,
   "metadata": {},
   "outputs": [
    {
     "name": "stdout",
     "output_type": "stream",
     "text": [
      "這格數值是003.142\n"
     ]
    }
   ],
   "source": [
    "#總共顯示7位前面補零，小數點後顯示三位\n",
    "print('這格數值是%07.3f' %3.1415926)"
   ]
  },
  {
   "cell_type": "code",
   "execution_count": 34,
   "metadata": {
    "scrolled": true
   },
   "outputs": [
    {
     "name": "stdout",
     "output_type": "stream",
     "text": [
      "這格數值是  3.142\n"
     ]
    }
   ],
   "source": [
    "#總共顯示7位前面補空格，小數點後顯示三位\n",
    "print('這格數值是%7.3f' %3.1415926)"
   ]
  },
  {
   "cell_type": "markdown",
   "metadata": {},
   "source": [
    "### 練習二 (格式化九九乘法表)\n",
    "嘗試使用for迴圈印出九九乘法表(格式如下)：<br>\n",
    "<pre>\n",
    "1x1=1   1x2=2   1x3=3   1x4=4   1x5=5   1x6=6   1x7=7   1x8=8   1x9=9\n",
    "2x1=2   2x2=4   2x3=6   2x4=8   2x5=10  2x6=12  2x7=14  2x8=16  2x9=18\n",
    "3x1=3   3x2=6   3x3=9   3x4=12  3x5=15  3x6=18  3x7=21  3x8=24  3x9=27\n",
    "4x1=4   4x2=8   4x3=12  4x4=16  4x5=20  4x6=24  4x7=28  4x8=32  4x9=36\n",
    "5x1=5   5x2=10  5x3=15  5x4=20  5x5=25  5x6=30  5x7=35  5x8=40  5x9=45\n",
    "6x1=6   6x2=12  6x3=18  6x4=24  6x5=30  6x6=36  6x7=42  6x8=48  6x9=54\n",
    "7x1=7   7x2=14  7x3=21  7x4=28  7x5=35  7x6=42  7x7=49  7x8=56  7x9=63\n",
    "8x1=8   8x2=16  8x3=24  8x4=32  8x5=40  8x6=48  8x7=56  8x8=64  8x9=72\n",
    "9x1=9   9x2=18  9x3=27  9x4=36  9x5=45  9x6=54  9x7=63  9x8=72  9x9=81</pre>"
   ]
  },
  {
   "cell_type": "code",
   "execution_count": 35,
   "metadata": {
    "scrolled": true
   },
   "outputs": [
    {
     "name": "stdout",
     "output_type": "stream",
     "text": [
      "1x1=1   1x2=2   1x3=3   1x4=4   1x5=5   1x6=6   1x7=7   1x8=8   1x9=9\n",
      "2x1=2   2x2=4   2x3=6   2x4=8   2x5=10  2x6=12  2x7=14  2x8=16  2x9=18\n",
      "3x1=3   3x2=6   3x3=9   3x4=12  3x5=15  3x6=18  3x7=21  3x8=24  3x9=27\n",
      "4x1=4   4x2=8   4x3=12  4x4=16  4x5=20  4x6=24  4x7=28  4x8=32  4x9=36\n",
      "5x1=5   5x2=10  5x3=15  5x4=20  5x5=25  5x6=30  5x7=35  5x8=40  5x9=45\n",
      "6x1=6   6x2=12  6x3=18  6x4=24  6x5=30  6x6=36  6x7=42  6x8=48  6x9=54\n",
      "7x1=7   7x2=14  7x3=21  7x4=28  7x5=35  7x6=42  7x7=49  7x8=56  7x9=63\n",
      "8x1=8   8x2=16  8x3=24  8x4=32  8x5=40  8x6=48  8x7=56  8x8=64  8x9=72\n",
      "9x1=9   9x2=18  9x3=27  9x4=36  9x5=45  9x6=54  9x7=63  9x8=72  9x9=81\n"
     ]
    }
   ],
   "source": [
    "for e in range(1,10):\n",
    "    for i in range(1,10):\n",
    "        print(f\"{e}x{i}={e*i}\",end=' '*(4-len(str(e*i))) if i!=9 else '\\n')"
   ]
  },
  {
   "cell_type": "markdown",
   "metadata": {},
   "source": [
    "### 常用函式介紹-數值處理"
   ]
  },
  {
   "cell_type": "code",
   "execution_count": 36,
   "metadata": {},
   "outputs": [
    {
     "name": "stdout",
     "output_type": "stream",
     "text": [
      "<class 'int'>\n"
     ]
    }
   ],
   "source": [
    "#回傳資料型別\n",
    "print(type(5))"
   ]
  },
  {
   "cell_type": "code",
   "execution_count": 37,
   "metadata": {},
   "outputs": [
    {
     "name": "stdout",
     "output_type": "stream",
     "text": [
      "6\n"
     ]
    }
   ],
   "source": [
    "#取絕對值\n",
    "print(abs(-6))  "
   ]
  },
  {
   "cell_type": "code",
   "execution_count": 38,
   "metadata": {},
   "outputs": [
    {
     "name": "stdout",
     "output_type": "stream",
     "text": [
      "25\n"
     ]
    }
   ],
   "source": [
    "#次方\n",
    "print(pow(5,2))"
   ]
  },
  {
   "cell_type": "code",
   "execution_count": 39,
   "metadata": {},
   "outputs": [
    {
     "name": "stdout",
     "output_type": "stream",
     "text": [
      "4\n"
     ]
    }
   ],
   "source": [
    "#四捨五入到小數後第x位\n",
    "print(round(4.5)) "
   ]
  },
  {
   "cell_type": "code",
   "execution_count": 40,
   "metadata": {},
   "outputs": [
    {
     "name": "stdout",
     "output_type": "stream",
     "text": [
      "range(1, 6)\n"
     ]
    }
   ],
   "source": [
    "#創造一個連續整數的(串列)\n",
    "print(range(1,6))"
   ]
  },
  {
   "cell_type": "code",
   "execution_count": 41,
   "metadata": {},
   "outputs": [
    {
     "name": "stdout",
     "output_type": "stream",
     "text": [
      "8\n"
     ]
    }
   ],
   "source": [
    "#回傳串列中的最大值\n",
    "arr = [1,2,3,4,5,6,7,8]\n",
    "print(max(arr))"
   ]
  },
  {
   "cell_type": "code",
   "execution_count": 42,
   "metadata": {},
   "outputs": [
    {
     "name": "stdout",
     "output_type": "stream",
     "text": [
      "1\n"
     ]
    }
   ],
   "source": [
    "#回傳串列中的最小值\n",
    "print(min(arr))"
   ]
  },
  {
   "cell_type": "code",
   "execution_count": 43,
   "metadata": {},
   "outputs": [
    {
     "name": "stdout",
     "output_type": "stream",
     "text": [
      "8\n"
     ]
    }
   ],
   "source": [
    "#回傳串列的長度\n",
    "print(len(arr)) "
   ]
  },
  {
   "cell_type": "code",
   "execution_count": 44,
   "metadata": {
    "scrolled": true
   },
   "outputs": [
    {
     "name": "stdout",
     "output_type": "stream",
     "text": [
      "11\n",
      "12\n",
      "13\n",
      "14\n",
      "15\n",
      "16\n",
      "17\n",
      "18\n"
     ]
    }
   ],
   "source": [
    "#串列長度與for迴圈的應用\n",
    "for e in range(len(arr)):\n",
    "    arr[e]+=10\n",
    "    print(arr[e])"
   ]
  },
  {
   "cell_type": "markdown",
   "metadata": {},
   "source": [
    "#### 方法 Methods\n",
    "每一種型別或是資料結構都有屬於自己的操作功能，這些功能被稱為「方法(method)」，使用方法就是在這個東西的後面加上一個「.」在加上方法名稱"
   ]
  },
  {
   "cell_type": "markdown",
   "metadata": {},
   "source": [
    "#### 方法介紹-字串處理方法"
   ]
  },
  {
   "cell_type": "code",
   "execution_count": 45,
   "metadata": {},
   "outputs": [
    {
     "data": {
      "text/plain": [
       "'bbcdefg'"
      ]
     },
     "execution_count": 45,
     "metadata": {},
     "output_type": "execute_result"
    }
   ],
   "source": [
    "#替換字串中的字元為指定字元\n",
    "word = 'abcdefg'\n",
    "word.replace('a','b')"
   ]
  },
  {
   "cell_type": "code",
   "execution_count": 46,
   "metadata": {},
   "outputs": [
    {
     "name": "stdout",
     "output_type": "stream",
     "text": [
      "ABCDEFG\n"
     ]
    }
   ],
   "source": [
    "#讓所有字元變成大寫\n",
    "word = word.upper()\n",
    "print(word)"
   ]
  },
  {
   "cell_type": "code",
   "execution_count": 47,
   "metadata": {},
   "outputs": [
    {
     "name": "stdout",
     "output_type": "stream",
     "text": [
      "abcdefg\n"
     ]
    }
   ],
   "source": [
    "#讓所有字元變成小寫\n",
    "word = word.lower()\n",
    "print(word)"
   ]
  },
  {
   "cell_type": "code",
   "execution_count": 48,
   "metadata": {},
   "outputs": [
    {
     "name": "stdout",
     "output_type": "stream",
     "text": [
      "2\n"
     ]
    }
   ],
   "source": [
    "#尋找指定字串在母字串的位置\n",
    "print(word.find('c'))"
   ]
  },
  {
   "cell_type": "code",
   "execution_count": 49,
   "metadata": {},
   "outputs": [
    {
     "name": "stdout",
     "output_type": "stream",
     "text": [
      "7\n"
     ]
    }
   ],
   "source": [
    "#回傳字串的長度\n",
    "print(len(word))"
   ]
  },
  {
   "cell_type": "code",
   "execution_count": 50,
   "metadata": {
    "scrolled": false
   },
   "outputs": [
    {
     "name": "stdout",
     "output_type": "stream",
     "text": [
      "['a', 'b', 'c']\n"
     ]
    }
   ],
   "source": [
    "#依特定字元分割字串為串列\n",
    "a = \"a b c\"\n",
    "print(a.split())"
   ]
  },
  {
   "cell_type": "markdown",
   "metadata": {},
   "source": [
    "#### 串列介紹-串列處理方法"
   ]
  },
  {
   "cell_type": "code",
   "execution_count": 51,
   "metadata": {},
   "outputs": [
    {
     "name": "stdout",
     "output_type": "stream",
     "text": [
      "1|2|3\n"
     ]
    }
   ],
   "source": [
    "#依特定字元將串列中的元素聚合為字串\n",
    "b = '|'\n",
    "arr = ['1','2','3']\n",
    "print(b.join(arr))"
   ]
  },
  {
   "cell_type": "code",
   "execution_count": 52,
   "metadata": {
    "scrolled": false
   },
   "outputs": [
    {
     "name": "stdout",
     "output_type": "stream",
     "text": [
      "1\n"
     ]
    }
   ],
   "source": [
    "#指定串列中的特定位置元素\n",
    "print(arr[0])"
   ]
  },
  {
   "cell_type": "code",
   "execution_count": 53,
   "metadata": {
    "scrolled": true
   },
   "outputs": [
    {
     "name": "stdout",
     "output_type": "stream",
     "text": [
      "['4', '2', '3']\n"
     ]
    }
   ],
   "source": [
    "#指定串列中的特定位置元素，並重新賦值\n",
    "arr[0] = '4'\n",
    "print(arr)"
   ]
  },
  {
   "cell_type": "code",
   "execution_count": 54,
   "metadata": {},
   "outputs": [
    {
     "name": "stdout",
     "output_type": "stream",
     "text": [
      "['4', '2', '3', '4']\n"
     ]
    }
   ],
   "source": [
    "#添加新的元素\n",
    "arr.append('4')\n",
    "print(arr)"
   ]
  },
  {
   "cell_type": "code",
   "execution_count": 55,
   "metadata": {},
   "outputs": [
    {
     "name": "stdout",
     "output_type": "stream",
     "text": [
      "['2', '3', '4']\n"
     ]
    }
   ],
   "source": [
    "#刪除串列中的元素\n",
    "arr.remove('4')\n",
    "print(arr)"
   ]
  },
  {
   "cell_type": "code",
   "execution_count": 56,
   "metadata": {},
   "outputs": [
    {
     "name": "stdout",
     "output_type": "stream",
     "text": [
      "1\n"
     ]
    }
   ],
   "source": [
    "#回傳指定元素在串列中的位置\n",
    "print(arr.index('3'))"
   ]
  },
  {
   "cell_type": "code",
   "execution_count": 57,
   "metadata": {
    "scrolled": true
   },
   "outputs": [
    {
     "name": "stdout",
     "output_type": "stream",
     "text": [
      "['2', '3', '4', '3']\n",
      "2\n"
     ]
    }
   ],
   "source": [
    "#為傳指定元素在串列中出現的次數\n",
    "arr.append('3')\n",
    "print(arr)\n",
    "print(arr.count('3'))"
   ]
  },
  {
   "cell_type": "markdown",
   "metadata": {},
   "source": [
    "#### 元組介紹-元組處理方法"
   ]
  },
  {
   "cell_type": "code",
   "execution_count": 58,
   "metadata": {},
   "outputs": [
    {
     "name": "stdout",
     "output_type": "stream",
     "text": [
      "1\n"
     ]
    }
   ],
   "source": [
    "\"\"\"tuple is immutable\"\"\"\n",
    "tup = (1,2,3,4,5)\n",
    "# tup[0] = 1\n",
    "print(tup[0])"
   ]
  },
  {
   "cell_type": "code",
   "execution_count": 59,
   "metadata": {},
   "outputs": [
    {
     "name": "stdout",
     "output_type": "stream",
     "text": [
      "(1, 2, 3, 4, 5, 9, 8, 7)\n"
     ]
    }
   ],
   "source": [
    "# tup.append(1)\n",
    "tup+=(9,8,7)\n",
    "# list(tup).append(9)\n",
    "print(tup)"
   ]
  },
  {
   "cell_type": "markdown",
   "metadata": {},
   "source": [
    "#### 字典介紹-字典處理方法"
   ]
  },
  {
   "cell_type": "code",
   "execution_count": 60,
   "metadata": {},
   "outputs": [
    {
     "name": "stdout",
     "output_type": "stream",
     "text": [
      "val1\n"
     ]
    }
   ],
   "source": [
    "#回傳指定鍵(key)對應的值(value)\n",
    "dic = {1:'val1','1':'val2',3:a}\n",
    "print(dic[1])"
   ]
  },
  {
   "cell_type": "code",
   "execution_count": 61,
   "metadata": {},
   "outputs": [
    {
     "name": "stdout",
     "output_type": "stream",
     "text": [
      "val3\n"
     ]
    }
   ],
   "source": [
    "#將指定鍵(key)重新賦予對應的值(value)\n",
    "# print(dic[0])\n",
    "dic[0] = 'val3'\n",
    "print(dic[0])"
   ]
  },
  {
   "cell_type": "code",
   "execution_count": 62,
   "metadata": {},
   "outputs": [
    {
     "name": "stdout",
     "output_type": "stream",
     "text": [
      "none\n",
      "a b c\n",
      "val4\n",
      "{1: 'val1', '1': 'val2', 3: 'a b c', 0: 'val3', 4: 'val4'}\n"
     ]
    }
   ],
   "source": [
    "#回傳指定鍵(key)對應的值(value)，如果在字典中找不到此鍵，那回傳特定值\n",
    "print(dic.get(4,'none'))\n",
    "print(dic.get(3,'none'))\n",
    "print(dic.setdefault(4,'val4'))\n",
    "print(dic)"
   ]
  },
  {
   "cell_type": "code",
   "execution_count": 63,
   "metadata": {},
   "outputs": [
    {
     "name": "stdout",
     "output_type": "stream",
     "text": [
      "dict_keys([1, '1', 3, 0, 4])\n",
      "dict_values(['val1', 'val2', 'a b c', 'val3', 'val4'])\n"
     ]
    }
   ],
   "source": [
    "#回傳字典中的所有鍵或所有值\n",
    "print(dic.keys())\n",
    "print(dic.values())"
   ]
  },
  {
   "cell_type": "code",
   "execution_count": 64,
   "metadata": {
    "scrolled": true
   },
   "outputs": [
    {
     "name": "stdout",
     "output_type": "stream",
     "text": [
      "dict_items([(1, 'val1'), ('1', 'val2'), (3, 'a b c'), (0, 'val3'), (4, 'val4')])\n",
      "1 val1\n",
      "1 val2\n",
      "3 a b c\n",
      "0 val3\n",
      "4 val4\n"
     ]
    }
   ],
   "source": [
    "#回傳字典中一組一組對應的鍵值\n",
    "print(dic.items())\n",
    "for (key,val) in dic.items():\n",
    "    print(key,val)"
   ]
  },
  {
   "cell_type": "markdown",
   "metadata": {},
   "source": [
    "<hr/>\n",
    "\n",
    "## Part2 資料分析\n",
    "### 讀取檔案"
   ]
  },
  {
   "cell_type": "code",
   "execution_count": 65,
   "metadata": {},
   "outputs": [],
   "source": [
    "import csv"
   ]
  },
  {
   "cell_type": "code",
   "execution_count": 66,
   "metadata": {},
   "outputs": [
    {
     "name": "stdout",
     "output_type": "stream",
     "text": [
      "<_io.TextIOWrapper name='金鐘獎101_106-2.csv' mode='r' encoding='UTF-8'>\n"
     ]
    }
   ],
   "source": [
    "#開啟檔案，並設定讀取模式與編碼\n",
    "file = open('金鐘獎101_106-2.csv','r',encoding='UTF-8')\n",
    "print(file)"
   ]
  },
  {
   "cell_type": "code",
   "execution_count": 67,
   "metadata": {},
   "outputs": [
    {
     "name": "stdout",
     "output_type": "stream",
     "text": [
      "['\\ufeff年度', '類別', '獎項', '得獎名單\\n']\n",
      "['101', '節目獎', '流行音樂節目獎', '記憶的鑰匙（內政部警政署警察廣播電臺臺北總臺）\\n']\n",
      "['101', '節目獎', '非流行音樂節目獎', '山與山的對話：好好聽客家（環宇廣播事業股份有限公司）\\n']\n",
      "['101', '節目獎', '教育文化節目獎', '科科創意研究室（漢聲廣播電臺臺北總臺）\\n']\n",
      "['101', '節目獎', '兒童節目獎', '陽光小豆芽（內政部警政署警察廣播電臺臺北總臺）\\n']\n",
      "['101', '節目獎', '少年節目獎', '少年NPO（正聲廣播股份有限公司臺北調頻廣播電臺）\\n']\n",
      "['101', '節目獎', '社會關懷節目獎', '溫馨快遞（國立教育廣播電臺）\\n']\n",
      "['101', '節目獎', '藝術文化節目獎', '世界夢想音樂廳（國立教育廣播電臺）\\n']\n",
      "['101', '節目獎', '綜合節目獎', '台灣鹹酸甜（國立教育廣播電臺）\\n']\n",
      "['101', '節目獎', '社區節目獎', '台灣鹹酸甜（國立教育廣播電臺）\\n']\n",
      "['101', '節目獎', '廣播劇獎', '都會劇場—臺北文學賞（臺北廣播電臺）\\n']\n",
      "['101', '節目獎', '單元節目獎', '大夥房下我的歌（竹科廣播股份有限公司）\\n']\n",
      "['101', '個人獎', '流行音樂節目主持人獎', '阿國、琇如／中古老歌廳（內政部警政署警察廣播電臺臺北臺）\\n']\n",
      "['101', '個人獎', '非流行音樂節目主持人獎', '眭澔平／世界音樂之旅（苗栗正義廣播電台股份有限公司）\\n']\n",
      "['101', '個人獎', '教育文化節目主持人獎', '宋銘【宋修聖】、邵文心／香榭大道（漢聲廣播電臺臺北總臺）\\n']\n",
      "['101', '個人獎', '兒童節目主持人獎', '小茱姐姐【施賢琴】、小福爾【陳正翰】、小摩斯【郭孔勳】／人人都是大明星（國立教育廣播電臺）\\n']\n",
      "['101', '個人獎', '少年節目主持人獎', '蕭曼屏／少年科學週報（國立教育廣播電臺）\\n']\n",
      "['101', '個人獎', '社會關懷節目主持人獎', '燕柔【陳燕柔】／溫馨快遞（國立教育廣播電臺）\\n']\n",
      "['101', '個人獎', '藝術文化節目主持人獎', '端端【陳端慧】／世界夢想音樂廳（國立教育廣播電臺）\\n']\n",
      "['101', '個人獎', '綜合節目主持人獎', '王一明【王騰懋】、梅子【張文玲】／台灣答嘴鼓（台灣聲音廣播興業股份有限公司）\\n']\n",
      "['101', '個人獎', '社區節目主持人獎', '潘國正、洪惠冠／愛上新竹（竹科廣播股份有限公司）\\n']\n",
      "['101', '個人獎', '企劃編撰獎', '安達【黃裕庭】、采琦【金玉琦】／音樂地圖（內政部警政署警察廣播電臺宜蘭臺）\\n']\n",
      "['101', '個人獎', '音效獎', 'Arthur【陳冠鳴】、小雨姐姐【陳麗純】／奇幻島（高雄廣播電臺）\\n']\n",
      "['101', '廣告獎', '商品類廣告獎', '吳鳳科技大學—出草篇（正聲廣播股份有限公司嘉義廣播電臺）\\n']\n",
      "['101', '廣告獎', '非商品類廣告獎', '人聲，以服務為目的！（財團法人中央廣播電臺）\\n']\n",
      "['101', '電臺獎', '電臺臺呼獎', '寶島新聲臺呼歌仔戲版（寶島新聲廣播電台股份有限公司）\\n']\n",
      "['101', '電臺獎', '電臺行銷創新獎', '「來自全球@祝福 讓世界看見臺灣」國際行銷案（財團法人中央廣播電臺）\\n']\n",
      "['101', '電臺獎', '專業頻道獎', '科技人文專業電台（竹科廣播股份有限公司）\\n']\n",
      "['101', '研究發展獎', '研究發展獎', '陳冠鳴／雲端廣播策略與實作（高雄市廣播教育協會推薦）\\n']\n",
      "['102', '節目獎', '流行音樂節目獎', '音樂地球村（國立教育廣播電臺高雄分臺）\\n']\n",
      "['102', '節目獎', '非流行音樂節目獎', '焦點音樂（好家庭廣播股份有限公司）\\n']\n",
      "['102', '節目獎', '教育文化節目獎', '老師不在教室（內政部警政署警察廣播電臺總臺）\\n']\n",
      "['102', '節目獎', '兒童節目獎', '幸福進行曲（財團法人中央廣播電臺）\\n']\n",
      "['102', '節目獎', '少年節目獎', '少年超優SHOW（國立教育廣播電臺）\\n']\n",
      "['102', '節目獎', '社會關懷節目獎', '真相與真情（漢聲廣播電臺臺北總臺）\\n']\n",
      "['102', '節目獎', '藝術文化節目獎', '美麗的臺灣（財團法人中央廣播電臺）\\n']\n",
      "['102', '節目獎', '綜合節目獎', '原來在臺北（臺北廣播電臺）\\n']\n",
      "['102', '節目獎', '社區節目獎', '愛上新竹（竹科廣播股份有限公司）\\n']\n",
      "['102', '節目獎', '廣播劇獎', '漢聲劇場（漢聲廣播電臺臺北總臺）\\n']\n",
      "['102', '節目獎', '單元節目獎', '話出東方經典 Classic Shorts（財團法人中央廣播電臺）\\n']\n",
      "['102', '個人獎', '流行音樂節目主持人獎', '袁永興／音樂歲月––說音樂的人（復興廣播電臺）\\n']\n",
      "['102', '個人獎', '非流行音樂節目主持人獎', '張翰揚／當音樂來敲門（正聲廣播股份有限公司臺北調頻廣播電臺）\\n']\n",
      "['102', '個人獎', '教育文化節目主持人獎', '咖啡貓【楊盈箴】／藝論紛紛（財團法人佳音廣播電台）\\n']\n",
      "['102', '個人獎', '兒童節目主持人獎', '小茱姐姐【施賢琴】、陳正翰／我愛福爾摩莎（國立教育廣播電臺彰化分臺）\\n']\n",
      "['102', '個人獎', '少年節目主持人獎', '何方【陳晞】／你facebook了嗎（復興廣播電臺）\\n']\n",
      "['102', '個人獎', '社會關懷節目主持人獎', '楊長順／日出的所在（正聲廣播股份有限公司雲林廣播電臺）\\n']\n",
      "['102', '個人獎', '藝術文化節目主持人獎', '朱家綺／我的綺想世界（財團法人中央廣播電臺）\\n']\n",
      "['102', '個人獎', '綜合節目主持人獎', '曲艾玲、阮安祖／東饗西饗 Feast Meets West（財團法人中央廣播電臺）\\n']\n",
      "['102', '個人獎', '社區節目主持人獎', '排灣小蔡【蔡文祥】、阿美姞荷【林祝素蘭】／有原來相會（國立教育廣播電臺）\\n']\n",
      "['102', '個人獎', '企劃編撰獎', '王秀芳／音樂共和國—大愛廣播劇場（財團法人慈濟傳播人文志業基金會）\\n']\n",
      "['102', '個人獎', '音效獎', '顏志成、陳燕柔／晚安故事屋（國立教育廣播電臺）\\n']\n",
      "['102', '廣告獎', '商品類廣告獎', '桑瑪克隔熱紙—德古拉的自白（財團法人健康傳播事業基金會）\\n']\n",
      "['102', '廣告獎', '非商品類廣告獎', '叫賣達人系列（內政部警政署警察廣播電臺總臺）\\n']\n",
      "['102', '電臺獎', '電臺臺呼獎', '警廣系列臺呼（內政部警政署警察廣播電臺總臺）\\n']\n",
      "['102', '電臺獎', '電臺行銷創新獎', '「泰想見到您」泰籍優秀勞工子女來臺省親活動（財團法人中央廣播電臺）\\n']\n",
      "['102', '電臺獎', '專業頻道獎', '專業新聞頻道（台灣全民廣播電台股份有限公司）\\n']\n",
      "['102', '研究發展獎', '研究發展獎', '陳建志、曾斐瑜、陳慧娟／我是一片雲—數位匯流下的雲端廣播（國立教育廣播電臺推薦）\\n']\n",
      "['102', '特別貢獻獎', '特別貢獻獎', '余光【喻光國】／內政部警政署警察廣播電臺總臺推薦\\n']\n",
      "['103', '節目獎', '流行音樂節目獎', '音樂五四三（參賽單位：台灣全民廣播電台股份有限公司）\\n']\n",
      "['103', '節目獎', '非流行音樂節目獎', '歌謠戀春風（參賽單位：財團法人中央廣播電臺）\\n']\n",
      "['103', '節目獎', '教育文化節目獎', '自然筆記（參賽單位：國立教育廣播電臺臺東分臺）\\n']\n",
      "['103', '節目獎', '兒童節目獎', '人人都是大明星（參賽單位：國立教育廣播電臺）\\n']\n",
      "['103', '節目獎', '少年節目獎', '少年大法師（參賽單位：國立教育廣播電臺高雄分臺）\\n']\n",
      "['103', '節目獎', '社會關懷節目獎', '陽光下的彩虹（參賽單位：財團法人中央廣播電臺）\\n']\n",
      "['103', '節目獎', '藝術文化節目獎', '現在演哪齣（參賽單位：內政部警政署警察廣播電臺總臺）\\n']\n",
      "['103', '節目獎', '綜合節目獎', '元氣好時光（參賽單位：正聲廣播股份有限公司臺北調頻廣播電臺）\\n']\n",
      "['103', '節目獎', '社區節目獎', '有原來相會（參賽單位：國立教育廣播電臺）\\n']\n",
      "['103', '節目獎', '廣播劇獎', '\"「時光隧道」~發現1624', 'Lost in Dutch Formosa（參賽單位：財團法人中央廣播電臺）\"\\n']\n",
      "['103', '節目獎', '單元節目獎', '音樂旅行（參賽單位：高雄廣播電臺）\\n']\n",
      "['103', '個人獎', '流行音樂節目主持人獎', '黃子佼／哥哥妹妹有意思之哥哥露兩點（報名單位：飛碟廣播股份有限公司）\\n']\n",
      "['103', '個人獎', '非流行音樂節目主持人獎', '北原山貓【吳廷宏（杜賴瓦旦）】／北原山貓聊天來~依呀呼（報名單位：財團法人中央廣播電臺）\\n']\n",
      "['103', '個人獎', '教育文化節目主持人獎', '黃迺毓、劉清彥／閱讀推手（報名單位：好家庭廣播股份有限公司）\\n']\n",
      "['103', '個人獎', '兒童節目主持人獎', '趙自強／九點強強滾（報名單位：台灣全民廣播電台股份有限公司）\\n']\n",
      "['103', '個人獎', '少年節目主持人獎', '唐妮【吳文嫦】、季潔【蔡宜穎】／少年超優Show（報名單位：國立教育廣播電臺）\\n']\n",
      "['103', '個人獎', '社會關懷節目主持人獎', '朱玉娟／轉角有藍天（報名單位：國立教育廣播電臺）\\n']\n",
      "['103', '個人獎', '藝術文化節目主持人獎', '林夢萍、王晴／現在演哪齣（報名單位：內政部警政署警察廣播電臺總臺）\\n']\n",
      "['103', '個人獎', '綜合節目主持人獎', '宋少卿、李維真／週末大舞台（報名單位：財團法人中央廣播電臺）\\n']\n",
      "['103', '個人獎', '社區節目主持人獎', '潘國正、洪惠冠／愛上新竹（報名單位：竹科廣播股份有限公司）\\n']\n",
      "['103', '個人獎', '企劃編撰獎', '田麗雲、李心茹／午后文學館–青番公的故事（報名單位：竹科廣播股份有限公司）\\n']\n",
      "['103', '個人獎', '音效獎', '\"林建成、徐進輝／「時光隧道」~發現1624', 'Lost in Dutch Formosa（報名單位：財團法人中央廣播電臺）\"\\n']\n",
      "['103', '廣告獎', '商品類廣告獎', '1111人力銀行 電話語音篇（參賽單位：晴天廣告有限公司）\\n']\n",
      "['103', '廣告獎', '非商品類廣告獎', '飛行狂響（參賽單位：正聲廣播股份有限公司臺北調頻廣播電臺）\\n']\n",
      "['103', '電臺獎', '電臺臺呼獎', '路況報馬仔–FM94.5、就是點我系列（參賽單位：內政部警政署警察廣播電臺臺中分臺）\\n']\n",
      "['103', '電臺獎', '電臺品牌行銷創新獎', '央廣85˙RTI無所不在（參賽單位：財團法人中央廣播電臺）\\n']\n",
      "['103', '數位應用獎', '電臺臺呼獎', '飛碟廣播股份有限公司／飛碟聯播網APP（中華民國廣播商業同業公會推薦）\\n']\n",
      "['104', '節目獎', '流行音樂節目獎', '音樂五四三（參賽單位：台灣全民廣播電台股份有限公司）\\n']\n",
      "['104', '節目獎', '非流行音樂節目獎', '音樂二三事（參賽單位：國立教育廣播電臺）\\n']\n",
      "['104', '節目獎', '教育文化節目獎', '臺灣文學作家系列（參賽單位：財團法人中央廣播電臺）\\n']\n",
      "['104', '節目獎', '兒童節目獎', '小偵探看媒體（參賽單位：國立教育廣播電臺）\\n']\n",
      "['104', '節目獎', '少年節目獎', '翻轉地圖（參賽單位：內政部警政署警察廣播電臺）\\n']\n",
      "['104', '節目獎', '社會關懷節目獎', '快樂麥克風（參賽單位：全景社區廣播電台股份有限公司）\\n']\n",
      "['104', '節目獎', '藝術文化節目獎', '談天說地講臺灣（參賽單位：財團法人中央廣播電臺）\\n']\n",
      "['104', '節目獎', '綜合節目獎', '用心聽台灣（參賽單位：國立教育廣播電臺）\\n']\n",
      "['104', '節目獎', '社區節目獎', '樂活社區水噹噹（參賽單位：正聲廣播股份有限公司臺中廣播電臺）\\n']\n",
      "['104', '節目獎', '廣播劇獎', '假日聽電影（參賽單位：正聲廣播股份有限公司高雄廣播電臺）\\n']\n",
      "['104', '節目獎', '單元節目獎', '寶島新故鄉（參賽單位：寶島新聲廣播電臺股份有限公司）\\n']\n",
      "['104', '個人獎', '流行音樂節目主持人獎', '馬世芳／音樂五四三（報名單位：台灣全民廣播電台股份有限公司）\\n']\n",
      "['104', '個人獎', '非流行音樂節目主持人獎', '李菁【李芝菁】、羅國盛／歌謠戀春風（報名單位：財團法人中央廣播電臺）\\n']\n",
      "['104', '個人獎', '教育文化節目主持人獎', '燕子【賴素燕】、陳凰鳳、楊喬宇、吳巧儂、丁安妮、趙二娟／幸福聯合國（報名單位：國立教育廣播電臺）\\n']\n",
      "['104', '個人獎', '兒童節目主持人獎', '小茱姐姐【施賢琴】／小偵探看媒體（報名單位：國立教育廣播電臺）\\n']\n",
      "['104', '個人獎', '少年節目主持人獎', '鄭晴、芳君／翻轉地圖（報名單位：內政部警政署警察廣播電臺）\\n']\n",
      "['104', '個人獎', '社會關懷節目主持人獎', '梁兄哥【梁明達】／這些人與那些人（報名單位：正聲廣播股份有限公司臺北調頻廣播電臺）\\n']\n",
      "['104', '個人獎', '藝術文化節目主持人獎', '明華【吳祝育】、林茂賢／談天說地講臺灣（報名單位：財團法人中央廣播電臺）\\n']\n",
      "['104', '個人獎', '綜合節目主持人獎', '土豆仁【王裕仁】／用心聽台灣（報名單位：國立教育廣播電臺）\\n']\n",
      "['104', '個人獎', '社區節目主持人獎', '溫士凱／全世界來作客（報名單位：中國廣播股份有限公司臺北總臺）\\n']\n",
      "['104', '個人獎', '企劃編撰獎', '阿珮【黃琇珮】、阿宥／快樂麥克風（報名單位：全景社區廣播電台股份有限公司）\\n']\n",
      "['104', '個人獎', '音效獎', '吳坤龍、許淳清／假日聽電影（報名單位：正聲廣播股份有限公司高雄廣播電臺）\\n']\n",
      "['104', '廣告獎', '商品類廣告獎', '元大廚具男人篇（參賽單位：城市廣播股份有限公司）\\n']\n",
      "['104', '廣告獎', '非商品類廣告獎', '珍惜水資源（參賽單位：王子音樂出版社）\\n']\n",
      "['104', '電臺品牌行銷創新獎', '電臺品牌行銷創新獎', '百轉千迴典藏黑膠特展（參賽單位：正聲廣播股份有限公司臺北調頻廣播電臺）\\n']\n",
      "['104', '數位應用獎', '數位應用獎', '吳庭煦／廣播媒體數位應用價值觀談典藏歷史聲音的感動與創造多元媒體的接觸（報名單位：正聲廣播股份有限公司臺北調頻廣播電臺）\\n']\n",
      "['104', '特別貢獻獎', '特別貢獻獎', '李季準先生\\n']\n",
      "['105', '節目獎', '流行音樂節目獎', '拍律遊樂園（參賽單位：國立教育廣播電臺）\\n']\n",
      "['105', '節目獎', '非流行音樂節目獎', '音樂伸展台-音樂花茶（參賽單位：高雄廣播電臺）\\n']\n",
      "['105', '節目獎', '教育文化節目獎', '臺灣故事島（參賽單位：臺北廣播電臺）\\n']\n",
      "['105', '節目獎', '兒童節目獎', '音樂故事灣（參賽單位：竹科廣播股份有限公司）\\n']\n",
      "['105', '節目獎', '少年節目獎', '小太陽的天空（參賽單位：內政部警政署警察廣播電臺）\\n']\n",
      "['105', '節目獎', '社會關懷節目獎', '生命大不同（參賽單位：財團法人中央廣播電臺）\\n']\n",
      "['105', '節目獎', '藝術文化節目獎', '我的綺想世界（參賽單位：財團法人中央廣播電臺）\\n']\n",
      "['105', '節目獎', '綜合節目獎', '自然有意思（參賽單位：國立教育廣播電臺）\\n']\n",
      "['105', '節目獎', '社區節目獎', 'Mapolong Kita（原來在一起）（參賽單位：花蓮希望之聲廣播電台股份有限公司）\\n']\n",
      "['105', '節目獎', '廣播劇獎', '鑼聲若響（參賽單位：財團法人慈濟傳播人文志業基金會）\\n']\n",
      "['105', '節目獎', '單元節目獎', '詩歌人聲（參賽單位：內政部警政署警察廣播電臺）\\n']\n",
      "['105', '個人獎', '流行音樂節目主持人獎', '馬世芳／音樂五四三（報名單位：台灣全民廣播電台股份有限公司）\\n']\n",
      "['105', '個人獎', '非流行音樂節目主持人獎', '子雁、華姵／新客家空中音樂會（報名單位：新客家廣播事業股份有限公司）\\n']\n",
      "['105', '個人獎', '教育文化節目主持人獎', '劉清彥、黃迺毓／閱讀推手（報名單位：好家庭廣播股份有限公司）\\n']\n",
      "['105', '個人獎', '兒童節目主持人獎', '趙自強／九點強強滾（報名單位：台灣全民廣播電台股份有限公司）\\n']\n",
      "['105', '個人獎', '少年節目主持人獎', '鄭晴、曹文娟／小太陽的天空（報名單位：內政部警政署警察廣播電臺）\\n']\n",
      "['105', '個人獎', '社會關懷節目主持人獎', '王文心／生命大不同（報名單位：財團法人中央廣播電臺）\\n']\n",
      "['105', '個人獎', '藝術文化節目主持人獎', '朱家綺／我的綺想世界（報名單位：財團法人中央廣播電臺）\\n']\n",
      "['105', '個人獎', '綜合節目主持人獎', '林夢萍、王晴／到底想幹嘛（報名單位：內政部警政署警察廣播電臺）\\n']\n",
      "['105', '個人獎', '社區節目主持人獎', '排灣小蔡【蔡文祥】、阿美姞荷【林祝素蘭】／Mapolong Kita（原來在一起）（報名單位：花蓮希望之聲廣播電台股份有限公司）\\n']\n",
      "['105', '個人獎', '企劃編撰獎', '小茱姐姐【施賢琴】／賽恩思遊樂園（報名單位：國立教育廣播電臺）\\n']\n",
      "['105', '個人獎', '音效獎', '吳坤龍、許淳清、蔡怡雯／生活繽紛樂-台灣故事廳（報名單位：正聲廣播股份有限公司高雄廣播電臺）\\n']\n",
      "['105', '廣告獎', '商品類廣告獎', 'HP筆電黃子佼篇（參賽單位：晴天整合行銷有限公司）\\n']\n",
      "['105', '廣告獎', '非商品類廣告獎', '心動899曾經的美好系列形象廣告（參賽單位：新竹勞工之聲廣播股份有限公司）\\n']\n",
      "['105', '電臺品牌行銷創新獎', '電臺品牌行銷創新獎', 'POP大國民學測（參賽單位：台北流行廣播股份有限公司）\\n']\n",
      "['105', '數位應用獎', '數位應用獎', '內政部警政署警察廣播電臺／當〝VR音聲〞遇上〝文化平權〞（報名單位：內政部警政署警察廣播電臺）\\n']\n",
      "['105', '特別貢獻獎', '特別貢獻獎', '周進升先生（藝名：放送頭）吳芳如女士\\n']\n",
      "['106', '節目獎', '流行音樂節目獎', '音樂五四三（參賽單位：台灣全民廣播電台）\\n']\n",
      "['106', '節目獎', '非流行音樂節目獎', '蒙德里安調色盤（參賽單位：好家庭廣播股份有限公司）\\n']\n",
      "['106', '節目獎', '教育文化節目獎', '方祖涵的運動筆記（參賽單位：財團法人台北勞工教育電台基金會）\\n']\n",
      "['106', '節目獎', '兒童節目獎', '世界樂來樂好聽（參賽單位：國立教育廣播電臺）\\n']\n",
      "['106', '節目獎', '少年節目獎', '聽青春在唱歌（參賽單位：臺北廣播電臺）\\n']\n",
      "['106', '節目獎', '社會關懷節目獎', '21點聽台灣（參賽單位：財團法人中央廣播電臺）\\n']\n",
      "['106', '節目獎', '藝術文化節目獎', '閱讀在午后（參賽單位：竹科廣播股份有限公司）\\n']\n",
      "['106', '節目獎', '綜合節目獎', '舌尖上的文學（參賽單位：內政部警政署警察廣播電臺）\\n']\n",
      "['106', '節目獎', '社區節目獎', '雲林好風情（參賽單位：正聲廣播股份有限公司雲林廣播電臺）\\n']\n",
      "['106', '節目獎', '廣播劇獎', '大樹下聽故事（參賽單位：大樹下廣播電台股份有限公司）\\n']\n",
      "['106', '節目獎', '單元節目獎', '健康也上「影」（參賽單位：內政部警政署警察廣播電臺）\\n']\n",
      "['106', '個人獎', '流行音樂節目主持人獎', '邵大倫／寶島真無閒（報名單位：寶島新聲廣播電台股份有限公司）\\n']\n",
      "['106', '個人獎', '非流行音樂節目主持人獎', '呂岱衛／蒙德里安調色盤（報名單位：好家庭廣播股份有限公司）\\n']\n",
      "['106', '個人獎', '教育文化節目主持人獎', '蔡詩萍／POP大國民（報名單位：台北流行廣播股份有限公司）\\n']\n",
      "['106', '個人獎', '兒童節目主持人獎', '唐妮【吳文嫦】／麻吉同學會（報名單位：國立教育廣播電臺）\\n']\n",
      "['106', '個人獎', '少年節目主持人獎', '唐薇【林美吟】、鄭晴【鄭雅卿】／今天誰當家（報名單位：內政部警政署警察廣播電臺）\\n']\n",
      "['106', '個人獎', '社會關懷節目主持人獎', '詹婉如、戴伸峰／21點聽台灣（報名單位：財團法人中央廣播電臺）\\n']\n",
      "['106', '個人獎', '藝術文化節目主持人獎', '單煒明／不單單是藝術（報名單位：國立教育廣播電臺）\\n']\n",
      "['106', '個人獎', '綜合節目主持人獎', '黃丹尼【黃柏文】／幽浮sports秀（報名單位：飛碟廣播股份有限公司）\\n']\n",
      "['106', '個人獎', '社區節目主持人獎', '許世峰／雲林好風情（報名單位：正聲廣播股份有限公司雲林廣播電臺）\\n']\n",
      "['106', '個人獎', '企劃編撰獎', '季潔【蔡宜穎】、錢志偉、唐妮【吳文嫦】、張敬【張維斌】／少年超優SHOW（報名單位：國立教育廣播電臺）\\n']\n",
      "['106', '個人獎', '音效獎', '吳坤龍、許淳清、蔡怡雯／生活繽紛樂-台灣故事廳（報名單位：正聲廣播股份有限公司高雄廣播電臺）\\n']\n",
      "['106', '廣告獎', '商品類廣告獎', 'HP印表機耗材黃子佼篇（參賽單位：晴天整合行銷有限公司）\\n']\n",
      "['106', '廣告獎', '非商品類廣告獎', '珍惜生命?7秒與7天篇（參賽單位：正聲廣播股份有限公司臺中廣播電臺）\\n']\n",
      "['106', '電臺品牌行銷創新獎 ', '電臺品牌行銷創新獎 ', 'POP Radio我素DJ系列活動（參賽單位：台北流行廣播股份有限公司）\\n']\n",
      "['106', '創新研發應用獎', '創新研發應用獎', '王正豪、王聖銘、陳建志、張詠翔、廖元甫、蔡玉秀／閱聽讀寫新廣播-channel＋節目策展與人工智慧加值應用（報名單位：國立教育廣播電臺）\\n']\n",
      "['106', '特別貢獻獎(得主)', '特別貢獻獎(得主)', '陶曉清女士\\n']\n"
     ]
    }
   ],
   "source": [
    "#將文檔透過一行一行取出並顯示\n",
    "for row in file:\n",
    "    print(row.split(','))"
   ]
  },
  {
   "cell_type": "code",
   "execution_count": 68,
   "metadata": {},
   "outputs": [
    {
     "name": "stdout",
     "output_type": "stream",
     "text": [
      "[['\\ufeff年度', '類別', '獎項', '得獎名單'], ['101', '節目獎', '流行音樂節目獎', '記憶的鑰匙（內政部警政署警察廣播電臺臺北總臺）'], ['101', '節目獎', '非流行音樂節目獎', '山與山的對話：好好聽客家（環宇廣播事業股份有限公司）'], ['101', '節目獎', '教育文化節目獎', '科科創意研究室（漢聲廣播電臺臺北總臺）'], ['101', '節目獎', '兒童節目獎', '陽光小豆芽（內政部警政署警察廣播電臺臺北總臺）'], ['101', '節目獎', '少年節目獎', '少年NPO（正聲廣播股份有限公司臺北調頻廣播電臺）'], ['101', '節目獎', '社會關懷節目獎', '溫馨快遞（國立教育廣播電臺）'], ['101', '節目獎', '藝術文化節目獎', '世界夢想音樂廳（國立教育廣播電臺）'], ['101', '節目獎', '綜合節目獎', '台灣鹹酸甜（國立教育廣播電臺）'], ['101', '節目獎', '社區節目獎', '台灣鹹酸甜（國立教育廣播電臺）'], ['101', '節目獎', '廣播劇獎', '都會劇場—臺北文學賞（臺北廣播電臺）'], ['101', '節目獎', '單元節目獎', '大夥房下我的歌（竹科廣播股份有限公司）'], ['101', '個人獎', '流行音樂節目主持人獎', '阿國、琇如／中古老歌廳（內政部警政署警察廣播電臺臺北臺）'], ['101', '個人獎', '非流行音樂節目主持人獎', '眭澔平／世界音樂之旅（苗栗正義廣播電台股份有限公司）'], ['101', '個人獎', '教育文化節目主持人獎', '宋銘【宋修聖】、邵文心／香榭大道（漢聲廣播電臺臺北總臺）'], ['101', '個人獎', '兒童節目主持人獎', '小茱姐姐【施賢琴】、小福爾【陳正翰】、小摩斯【郭孔勳】／人人都是大明星（國立教育廣播電臺）'], ['101', '個人獎', '少年節目主持人獎', '蕭曼屏／少年科學週報（國立教育廣播電臺）'], ['101', '個人獎', '社會關懷節目主持人獎', '燕柔【陳燕柔】／溫馨快遞（國立教育廣播電臺）'], ['101', '個人獎', '藝術文化節目主持人獎', '端端【陳端慧】／世界夢想音樂廳（國立教育廣播電臺）'], ['101', '個人獎', '綜合節目主持人獎', '王一明【王騰懋】、梅子【張文玲】／台灣答嘴鼓（台灣聲音廣播興業股份有限公司）'], ['101', '個人獎', '社區節目主持人獎', '潘國正、洪惠冠／愛上新竹（竹科廣播股份有限公司）'], ['101', '個人獎', '企劃編撰獎', '安達【黃裕庭】、采琦【金玉琦】／音樂地圖（內政部警政署警察廣播電臺宜蘭臺）'], ['101', '個人獎', '音效獎', 'Arthur【陳冠鳴】、小雨姐姐【陳麗純】／奇幻島（高雄廣播電臺）'], ['101', '廣告獎', '商品類廣告獎', '吳鳳科技大學—出草篇（正聲廣播股份有限公司嘉義廣播電臺）'], ['101', '廣告獎', '非商品類廣告獎', '人聲，以服務為目的！（財團法人中央廣播電臺）'], ['101', '電臺獎', '電臺臺呼獎', '寶島新聲臺呼歌仔戲版（寶島新聲廣播電台股份有限公司）'], ['101', '電臺獎', '電臺行銷創新獎', '「來自全球@祝福 讓世界看見臺灣」國際行銷案（財團法人中央廣播電臺）'], ['101', '電臺獎', '專業頻道獎', '科技人文專業電台（竹科廣播股份有限公司）'], ['101', '研究發展獎', '研究發展獎', '陳冠鳴／雲端廣播策略與實作（高雄市廣播教育協會推薦）'], ['102', '節目獎', '流行音樂節目獎', '音樂地球村（國立教育廣播電臺高雄分臺）'], ['102', '節目獎', '非流行音樂節目獎', '焦點音樂（好家庭廣播股份有限公司）'], ['102', '節目獎', '教育文化節目獎', '老師不在教室（內政部警政署警察廣播電臺總臺）'], ['102', '節目獎', '兒童節目獎', '幸福進行曲（財團法人中央廣播電臺）'], ['102', '節目獎', '少年節目獎', '少年超優SHOW（國立教育廣播電臺）'], ['102', '節目獎', '社會關懷節目獎', '真相與真情（漢聲廣播電臺臺北總臺）'], ['102', '節目獎', '藝術文化節目獎', '美麗的臺灣（財團法人中央廣播電臺）'], ['102', '節目獎', '綜合節目獎', '原來在臺北（臺北廣播電臺）'], ['102', '節目獎', '社區節目獎', '愛上新竹（竹科廣播股份有限公司）'], ['102', '節目獎', '廣播劇獎', '漢聲劇場（漢聲廣播電臺臺北總臺）'], ['102', '節目獎', '單元節目獎', '話出東方經典 Classic Shorts（財團法人中央廣播電臺）'], ['102', '個人獎', '流行音樂節目主持人獎', '袁永興／音樂歲月––說音樂的人（復興廣播電臺）'], ['102', '個人獎', '非流行音樂節目主持人獎', '張翰揚／當音樂來敲門（正聲廣播股份有限公司臺北調頻廣播電臺）'], ['102', '個人獎', '教育文化節目主持人獎', '咖啡貓【楊盈箴】／藝論紛紛（財團法人佳音廣播電台）'], ['102', '個人獎', '兒童節目主持人獎', '小茱姐姐【施賢琴】、陳正翰／我愛福爾摩莎（國立教育廣播電臺彰化分臺）'], ['102', '個人獎', '少年節目主持人獎', '何方【陳晞】／你facebook了嗎（復興廣播電臺）'], ['102', '個人獎', '社會關懷節目主持人獎', '楊長順／日出的所在（正聲廣播股份有限公司雲林廣播電臺）'], ['102', '個人獎', '藝術文化節目主持人獎', '朱家綺／我的綺想世界（財團法人中央廣播電臺）'], ['102', '個人獎', '綜合節目主持人獎', '曲艾玲、阮安祖／東饗西饗 Feast Meets West（財團法人中央廣播電臺）'], ['102', '個人獎', '社區節目主持人獎', '排灣小蔡【蔡文祥】、阿美姞荷【林祝素蘭】／有原來相會（國立教育廣播電臺）'], ['102', '個人獎', '企劃編撰獎', '王秀芳／音樂共和國—大愛廣播劇場（財團法人慈濟傳播人文志業基金會）'], ['102', '個人獎', '音效獎', '顏志成、陳燕柔／晚安故事屋（國立教育廣播電臺）'], ['102', '廣告獎', '商品類廣告獎', '桑瑪克隔熱紙—德古拉的自白（財團法人健康傳播事業基金會）'], ['102', '廣告獎', '非商品類廣告獎', '叫賣達人系列（內政部警政署警察廣播電臺總臺）'], ['102', '電臺獎', '電臺臺呼獎', '警廣系列臺呼（內政部警政署警察廣播電臺總臺）'], ['102', '電臺獎', '電臺行銷創新獎', '「泰想見到您」泰籍優秀勞工子女來臺省親活動（財團法人中央廣播電臺）'], ['102', '電臺獎', '專業頻道獎', '專業新聞頻道（台灣全民廣播電台股份有限公司）'], ['102', '研究發展獎', '研究發展獎', '陳建志、曾斐瑜、陳慧娟／我是一片雲—數位匯流下的雲端廣播（國立教育廣播電臺推薦）'], ['102', '特別貢獻獎', '特別貢獻獎', '余光【喻光國】／內政部警政署警察廣播電臺總臺推薦'], ['103', '節目獎', '流行音樂節目獎', '音樂五四三（參賽單位：台灣全民廣播電台股份有限公司）'], ['103', '節目獎', '非流行音樂節目獎', '歌謠戀春風（參賽單位：財團法人中央廣播電臺）'], ['103', '節目獎', '教育文化節目獎', '自然筆記（參賽單位：國立教育廣播電臺臺東分臺）'], ['103', '節目獎', '兒童節目獎', '人人都是大明星（參賽單位：國立教育廣播電臺）'], ['103', '節目獎', '少年節目獎', '少年大法師（參賽單位：國立教育廣播電臺高雄分臺）'], ['103', '節目獎', '社會關懷節目獎', '陽光下的彩虹（參賽單位：財團法人中央廣播電臺）'], ['103', '節目獎', '藝術文化節目獎', '現在演哪齣（參賽單位：內政部警政署警察廣播電臺總臺）'], ['103', '節目獎', '綜合節目獎', '元氣好時光（參賽單位：正聲廣播股份有限公司臺北調頻廣播電臺）'], ['103', '節目獎', '社區節目獎', '有原來相會（參賽單位：國立教育廣播電臺）'], ['103', '節目獎', '廣播劇獎', '「時光隧道」~發現1624,Lost in Dutch Formosa（參賽單位：財團法人中央廣播電臺）'], ['103', '節目獎', '單元節目獎', '音樂旅行（參賽單位：高雄廣播電臺）'], ['103', '個人獎', '流行音樂節目主持人獎', '黃子佼／哥哥妹妹有意思之哥哥露兩點（報名單位：飛碟廣播股份有限公司）'], ['103', '個人獎', '非流行音樂節目主持人獎', '北原山貓【吳廷宏（杜賴瓦旦）】／北原山貓聊天來~依呀呼（報名單位：財團法人中央廣播電臺）'], ['103', '個人獎', '教育文化節目主持人獎', '黃迺毓、劉清彥／閱讀推手（報名單位：好家庭廣播股份有限公司）'], ['103', '個人獎', '兒童節目主持人獎', '趙自強／九點強強滾（報名單位：台灣全民廣播電台股份有限公司）'], ['103', '個人獎', '少年節目主持人獎', '唐妮【吳文嫦】、季潔【蔡宜穎】／少年超優Show（報名單位：國立教育廣播電臺）'], ['103', '個人獎', '社會關懷節目主持人獎', '朱玉娟／轉角有藍天（報名單位：國立教育廣播電臺）'], ['103', '個人獎', '藝術文化節目主持人獎', '林夢萍、王晴／現在演哪齣（報名單位：內政部警政署警察廣播電臺總臺）'], ['103', '個人獎', '綜合節目主持人獎', '宋少卿、李維真／週末大舞台（報名單位：財團法人中央廣播電臺）'], ['103', '個人獎', '社區節目主持人獎', '潘國正、洪惠冠／愛上新竹（報名單位：竹科廣播股份有限公司）'], ['103', '個人獎', '企劃編撰獎', '田麗雲、李心茹／午后文學館–青番公的故事（報名單位：竹科廣播股份有限公司）'], ['103', '個人獎', '音效獎', '林建成、徐進輝／「時光隧道」~發現1624,Lost in Dutch Formosa（報名單位：財團法人中央廣播電臺）'], ['103', '廣告獎', '商品類廣告獎', '1111人力銀行 電話語音篇（參賽單位：晴天廣告有限公司）'], ['103', '廣告獎', '非商品類廣告獎', '飛行狂響（參賽單位：正聲廣播股份有限公司臺北調頻廣播電臺）'], ['103', '電臺獎', '電臺臺呼獎', '路況報馬仔–FM94.5、就是點我系列（參賽單位：內政部警政署警察廣播電臺臺中分臺）'], ['103', '電臺獎', '電臺品牌行銷創新獎', '央廣85˙RTI無所不在（參賽單位：財團法人中央廣播電臺）'], ['103', '數位應用獎', '電臺臺呼獎', '飛碟廣播股份有限公司／飛碟聯播網APP（中華民國廣播商業同業公會推薦）'], ['104', '節目獎', '流行音樂節目獎', '音樂五四三（參賽單位：台灣全民廣播電台股份有限公司）'], ['104', '節目獎', '非流行音樂節目獎', '音樂二三事（參賽單位：國立教育廣播電臺）'], ['104', '節目獎', '教育文化節目獎', '臺灣文學作家系列（參賽單位：財團法人中央廣播電臺）'], ['104', '節目獎', '兒童節目獎', '小偵探看媒體（參賽單位：國立教育廣播電臺）'], ['104', '節目獎', '少年節目獎', '翻轉地圖（參賽單位：內政部警政署警察廣播電臺）'], ['104', '節目獎', '社會關懷節目獎', '快樂麥克風（參賽單位：全景社區廣播電台股份有限公司）'], ['104', '節目獎', '藝術文化節目獎', '談天說地講臺灣（參賽單位：財團法人中央廣播電臺）'], ['104', '節目獎', '綜合節目獎', '用心聽台灣（參賽單位：國立教育廣播電臺）'], ['104', '節目獎', '社區節目獎', '樂活社區水噹噹（參賽單位：正聲廣播股份有限公司臺中廣播電臺）'], ['104', '節目獎', '廣播劇獎', '假日聽電影（參賽單位：正聲廣播股份有限公司高雄廣播電臺）'], ['104', '節目獎', '單元節目獎', '寶島新故鄉（參賽單位：寶島新聲廣播電臺股份有限公司）'], ['104', '個人獎', '流行音樂節目主持人獎', '馬世芳／音樂五四三（報名單位：台灣全民廣播電台股份有限公司）'], ['104', '個人獎', '非流行音樂節目主持人獎', '李菁【李芝菁】、羅國盛／歌謠戀春風（報名單位：財團法人中央廣播電臺）'], ['104', '個人獎', '教育文化節目主持人獎', '燕子【賴素燕】、陳凰鳳、楊喬宇、吳巧儂、丁安妮、趙二娟／幸福聯合國（報名單位：國立教育廣播電臺）'], ['104', '個人獎', '兒童節目主持人獎', '小茱姐姐【施賢琴】／小偵探看媒體（報名單位：國立教育廣播電臺）'], ['104', '個人獎', '少年節目主持人獎', '鄭晴、芳君／翻轉地圖（報名單位：內政部警政署警察廣播電臺）'], ['104', '個人獎', '社會關懷節目主持人獎', '梁兄哥【梁明達】／這些人與那些人（報名單位：正聲廣播股份有限公司臺北調頻廣播電臺）'], ['104', '個人獎', '藝術文化節目主持人獎', '明華【吳祝育】、林茂賢／談天說地講臺灣（報名單位：財團法人中央廣播電臺）'], ['104', '個人獎', '綜合節目主持人獎', '土豆仁【王裕仁】／用心聽台灣（報名單位：國立教育廣播電臺）'], ['104', '個人獎', '社區節目主持人獎', '溫士凱／全世界來作客（報名單位：中國廣播股份有限公司臺北總臺）'], ['104', '個人獎', '企劃編撰獎', '阿珮【黃琇珮】、阿宥／快樂麥克風（報名單位：全景社區廣播電台股份有限公司）'], ['104', '個人獎', '音效獎', '吳坤龍、許淳清／假日聽電影（報名單位：正聲廣播股份有限公司高雄廣播電臺）'], ['104', '廣告獎', '商品類廣告獎', '元大廚具男人篇（參賽單位：城市廣播股份有限公司）'], ['104', '廣告獎', '非商品類廣告獎', '珍惜水資源（參賽單位：王子音樂出版社）'], ['104', '電臺品牌行銷創新獎', '電臺品牌行銷創新獎', '百轉千迴典藏黑膠特展（參賽單位：正聲廣播股份有限公司臺北調頻廣播電臺）'], ['104', '數位應用獎', '數位應用獎', '吳庭煦／廣播媒體數位應用價值觀談典藏歷史聲音的感動與創造多元媒體的接觸（報名單位：正聲廣播股份有限公司臺北調頻廣播電臺）'], ['104', '特別貢獻獎', '特別貢獻獎', '李季準先生'], ['105', '節目獎', '流行音樂節目獎', '拍律遊樂園（參賽單位：國立教育廣播電臺）'], ['105', '節目獎', '非流行音樂節目獎', '音樂伸展台-音樂花茶（參賽單位：高雄廣播電臺）'], ['105', '節目獎', '教育文化節目獎', '臺灣故事島（參賽單位：臺北廣播電臺）'], ['105', '節目獎', '兒童節目獎', '音樂故事灣（參賽單位：竹科廣播股份有限公司）'], ['105', '節目獎', '少年節目獎', '小太陽的天空（參賽單位：內政部警政署警察廣播電臺）'], ['105', '節目獎', '社會關懷節目獎', '生命大不同（參賽單位：財團法人中央廣播電臺）'], ['105', '節目獎', '藝術文化節目獎', '我的綺想世界（參賽單位：財團法人中央廣播電臺）'], ['105', '節目獎', '綜合節目獎', '自然有意思（參賽單位：國立教育廣播電臺）'], ['105', '節目獎', '社區節目獎', 'Mapolong Kita（原來在一起）（參賽單位：花蓮希望之聲廣播電台股份有限公司）'], ['105', '節目獎', '廣播劇獎', '鑼聲若響（參賽單位：財團法人慈濟傳播人文志業基金會）'], ['105', '節目獎', '單元節目獎', '詩歌人聲（參賽單位：內政部警政署警察廣播電臺）'], ['105', '個人獎', '流行音樂節目主持人獎', '馬世芳／音樂五四三（報名單位：台灣全民廣播電台股份有限公司）'], ['105', '個人獎', '非流行音樂節目主持人獎', '子雁、華姵／新客家空中音樂會（報名單位：新客家廣播事業股份有限公司）'], ['105', '個人獎', '教育文化節目主持人獎', '劉清彥、黃迺毓／閱讀推手（報名單位：好家庭廣播股份有限公司）'], ['105', '個人獎', '兒童節目主持人獎', '趙自強／九點強強滾（報名單位：台灣全民廣播電台股份有限公司）'], ['105', '個人獎', '少年節目主持人獎', '鄭晴、曹文娟／小太陽的天空（報名單位：內政部警政署警察廣播電臺）'], ['105', '個人獎', '社會關懷節目主持人獎', '王文心／生命大不同（報名單位：財團法人中央廣播電臺）'], ['105', '個人獎', '藝術文化節目主持人獎', '朱家綺／我的綺想世界（報名單位：財團法人中央廣播電臺）'], ['105', '個人獎', '綜合節目主持人獎', '林夢萍、王晴／到底想幹嘛（報名單位：內政部警政署警察廣播電臺）'], ['105', '個人獎', '社區節目主持人獎', '排灣小蔡【蔡文祥】、阿美姞荷【林祝素蘭】／Mapolong Kita（原來在一起）（報名單位：花蓮希望之聲廣播電台股份有限公司）'], ['105', '個人獎', '企劃編撰獎', '小茱姐姐【施賢琴】／賽恩思遊樂園（報名單位：國立教育廣播電臺）'], ['105', '個人獎', '音效獎', '吳坤龍、許淳清、蔡怡雯／生活繽紛樂-台灣故事廳（報名單位：正聲廣播股份有限公司高雄廣播電臺）'], ['105', '廣告獎', '商品類廣告獎', 'HP筆電黃子佼篇（參賽單位：晴天整合行銷有限公司）'], ['105', '廣告獎', '非商品類廣告獎', '心動899曾經的美好系列形象廣告（參賽單位：新竹勞工之聲廣播股份有限公司）'], ['105', '電臺品牌行銷創新獎', '電臺品牌行銷創新獎', 'POP大國民學測（參賽單位：台北流行廣播股份有限公司）'], ['105', '數位應用獎', '數位應用獎', '內政部警政署警察廣播電臺／當〝VR音聲〞遇上〝文化平權〞（報名單位：內政部警政署警察廣播電臺）'], ['105', '特別貢獻獎', '特別貢獻獎', '周進升先生（藝名：放送頭）吳芳如女士'], ['106', '節目獎', '流行音樂節目獎', '音樂五四三（參賽單位：台灣全民廣播電台）'], ['106', '節目獎', '非流行音樂節目獎', '蒙德里安調色盤（參賽單位：好家庭廣播股份有限公司）'], ['106', '節目獎', '教育文化節目獎', '方祖涵的運動筆記（參賽單位：財團法人台北勞工教育電台基金會）'], ['106', '節目獎', '兒童節目獎', '世界樂來樂好聽（參賽單位：國立教育廣播電臺）'], ['106', '節目獎', '少年節目獎', '聽青春在唱歌（參賽單位：臺北廣播電臺）'], ['106', '節目獎', '社會關懷節目獎', '21點聽台灣（參賽單位：財團法人中央廣播電臺）'], ['106', '節目獎', '藝術文化節目獎', '閱讀在午后（參賽單位：竹科廣播股份有限公司）'], ['106', '節目獎', '綜合節目獎', '舌尖上的文學（參賽單位：內政部警政署警察廣播電臺）'], ['106', '節目獎', '社區節目獎', '雲林好風情（參賽單位：正聲廣播股份有限公司雲林廣播電臺）'], ['106', '節目獎', '廣播劇獎', '大樹下聽故事（參賽單位：大樹下廣播電台股份有限公司）'], ['106', '節目獎', '單元節目獎', '健康也上「影」（參賽單位：內政部警政署警察廣播電臺）'], ['106', '個人獎', '流行音樂節目主持人獎', '邵大倫／寶島真無閒（報名單位：寶島新聲廣播電台股份有限公司）'], ['106', '個人獎', '非流行音樂節目主持人獎', '呂岱衛／蒙德里安調色盤（報名單位：好家庭廣播股份有限公司）'], ['106', '個人獎', '教育文化節目主持人獎', '蔡詩萍／POP大國民（報名單位：台北流行廣播股份有限公司）'], ['106', '個人獎', '兒童節目主持人獎', '唐妮【吳文嫦】／麻吉同學會（報名單位：國立教育廣播電臺）'], ['106', '個人獎', '少年節目主持人獎', '唐薇【林美吟】、鄭晴【鄭雅卿】／今天誰當家（報名單位：內政部警政署警察廣播電臺）'], ['106', '個人獎', '社會關懷節目主持人獎', '詹婉如、戴伸峰／21點聽台灣（報名單位：財團法人中央廣播電臺）'], ['106', '個人獎', '藝術文化節目主持人獎', '單煒明／不單單是藝術（報名單位：國立教育廣播電臺）'], ['106', '個人獎', '綜合節目主持人獎', '黃丹尼【黃柏文】／幽浮sports秀（報名單位：飛碟廣播股份有限公司）'], ['106', '個人獎', '社區節目主持人獎', '許世峰／雲林好風情（報名單位：正聲廣播股份有限公司雲林廣播電臺）'], ['106', '個人獎', '企劃編撰獎', '季潔【蔡宜穎】、錢志偉、唐妮【吳文嫦】、張敬【張維斌】／少年超優SHOW（報名單位：國立教育廣播電臺）'], ['106', '個人獎', '音效獎', '吳坤龍、許淳清、蔡怡雯／生活繽紛樂-台灣故事廳（報名單位：正聲廣播股份有限公司高雄廣播電臺）'], ['106', '廣告獎', '商品類廣告獎', 'HP印表機耗材黃子佼篇（參賽單位：晴天整合行銷有限公司）'], ['106', '廣告獎', '非商品類廣告獎', '珍惜生命?7秒與7天篇（參賽單位：正聲廣播股份有限公司臺中廣播電臺）'], ['106', '電臺品牌行銷創新獎 ', '電臺品牌行銷創新獎 ', 'POP Radio我素DJ系列活動（參賽單位：台北流行廣播股份有限公司）'], ['106', '創新研發應用獎', '創新研發應用獎', '王正豪、王聖銘、陳建志、張詠翔、廖元甫、蔡玉秀／閱聽讀寫新廣播-channel＋節目策展與人工智慧加值應用（報名單位：國立教育廣播電臺）'], ['106', '特別貢獻獎(得主)', '特別貢獻獎(得主)', '陶曉清女士']]\n"
     ]
    }
   ],
   "source": [
    "#利用csv套件讀取檔案，並將其裝入串列\n",
    "rows = csv.reader( open('金鐘獎101_106-2.csv','r',encoding='UTF-8'),delimiter=',')\n",
    "data = []\n",
    "for e in rows:\n",
    "    data.append(e)\n",
    "print(data)"
   ]
  },
  {
   "cell_type": "code",
   "execution_count": 69,
   "metadata": {},
   "outputs": [],
   "source": [
    "#建立一個新的串列，並依照順序放入欄位名稱\n",
    "columns = ['年度', '類別', '獎項', '得獎名單']"
   ]
  },
  {
   "cell_type": "code",
   "execution_count": 70,
   "metadata": {},
   "outputs": [
    {
     "name": "stdout",
     "output_type": "stream",
     "text": [
      "類別\n",
      "節目獎\n",
      "節目獎\n",
      "節目獎\n",
      "節目獎\n",
      "節目獎\n",
      "節目獎\n",
      "節目獎\n",
      "節目獎\n",
      "節目獎\n",
      "節目獎\n",
      "節目獎\n",
      "個人獎\n",
      "個人獎\n",
      "個人獎\n",
      "個人獎\n",
      "個人獎\n",
      "個人獎\n",
      "個人獎\n",
      "個人獎\n",
      "個人獎\n",
      "個人獎\n",
      "個人獎\n",
      "廣告獎\n",
      "廣告獎\n",
      "電臺獎\n",
      "電臺獎\n",
      "電臺獎\n",
      "研究發展獎\n",
      "節目獎\n",
      "節目獎\n",
      "節目獎\n",
      "節目獎\n",
      "節目獎\n",
      "節目獎\n",
      "節目獎\n",
      "節目獎\n",
      "節目獎\n",
      "節目獎\n",
      "節目獎\n",
      "個人獎\n",
      "個人獎\n",
      "個人獎\n",
      "個人獎\n",
      "個人獎\n",
      "個人獎\n",
      "個人獎\n",
      "個人獎\n",
      "個人獎\n",
      "個人獎\n",
      "個人獎\n",
      "廣告獎\n",
      "廣告獎\n",
      "電臺獎\n",
      "電臺獎\n",
      "電臺獎\n",
      "研究發展獎\n",
      "特別貢獻獎\n",
      "節目獎\n",
      "節目獎\n",
      "節目獎\n",
      "節目獎\n",
      "節目獎\n",
      "節目獎\n",
      "節目獎\n",
      "節目獎\n",
      "節目獎\n",
      "節目獎\n",
      "節目獎\n",
      "個人獎\n",
      "個人獎\n",
      "個人獎\n",
      "個人獎\n",
      "個人獎\n",
      "個人獎\n",
      "個人獎\n",
      "個人獎\n",
      "個人獎\n",
      "個人獎\n",
      "個人獎\n",
      "廣告獎\n",
      "廣告獎\n",
      "電臺獎\n",
      "電臺獎\n",
      "數位應用獎\n",
      "節目獎\n",
      "節目獎\n",
      "節目獎\n",
      "節目獎\n",
      "節目獎\n",
      "節目獎\n",
      "節目獎\n",
      "節目獎\n",
      "節目獎\n",
      "節目獎\n",
      "節目獎\n",
      "個人獎\n",
      "個人獎\n",
      "個人獎\n",
      "個人獎\n",
      "個人獎\n",
      "個人獎\n",
      "個人獎\n",
      "個人獎\n",
      "個人獎\n",
      "個人獎\n",
      "個人獎\n",
      "廣告獎\n",
      "廣告獎\n",
      "電臺品牌行銷創新獎\n",
      "數位應用獎\n",
      "特別貢獻獎\n",
      "節目獎\n",
      "節目獎\n",
      "節目獎\n",
      "節目獎\n",
      "節目獎\n",
      "節目獎\n",
      "節目獎\n",
      "節目獎\n",
      "節目獎\n",
      "節目獎\n",
      "節目獎\n",
      "個人獎\n",
      "個人獎\n",
      "個人獎\n",
      "個人獎\n",
      "個人獎\n",
      "個人獎\n",
      "個人獎\n",
      "個人獎\n",
      "個人獎\n",
      "個人獎\n",
      "個人獎\n",
      "廣告獎\n",
      "廣告獎\n",
      "電臺品牌行銷創新獎\n",
      "數位應用獎\n",
      "特別貢獻獎\n",
      "節目獎\n",
      "節目獎\n",
      "節目獎\n",
      "節目獎\n",
      "節目獎\n",
      "節目獎\n",
      "節目獎\n",
      "節目獎\n",
      "節目獎\n",
      "節目獎\n",
      "節目獎\n",
      "個人獎\n",
      "個人獎\n",
      "個人獎\n",
      "個人獎\n",
      "個人獎\n",
      "個人獎\n",
      "個人獎\n",
      "個人獎\n",
      "個人獎\n",
      "個人獎\n",
      "個人獎\n",
      "廣告獎\n",
      "廣告獎\n",
      "電臺品牌行銷創新獎 \n",
      "創新研發應用獎\n",
      "特別貢獻獎(得主)\n"
     ]
    }
   ],
   "source": [
    "#利用columns取得串列中的相對位置，並利用此位置提取該欄位資料\n",
    "col = columns.index('類別')\n",
    "for row in data:\n",
    "    print(row[col])"
   ]
  },
  {
   "cell_type": "code",
   "execution_count": 71,
   "metadata": {},
   "outputs": [
    {
     "name": "stdout",
     "output_type": "stream",
     "text": [
      "{'類別': 1, '節目獎': 66, '個人獎': 66, '廣告獎': 12, '電臺獎': 8, '研究發展獎': 2, '特別貢獻獎': 3, '數位應用獎': 3, '電臺品牌行銷創新獎': 2, '電臺品牌行銷創新獎 ': 1, '創新研發應用獎': 1, '特別貢獻獎(得主)': 1}\n"
     ]
    }
   ],
   "source": [
    "#計算次數分配表\n",
    "freq_table={}\n",
    "for row in data:\n",
    "    if row[col] not in freq_table:\n",
    "        freq_table[row[col]] = 1\n",
    "    else:\n",
    "        freq_table[row[col]]+=1\n",
    "#     freq_table[row[col]] = freq_table.get(row[col],0)+1\n",
    "print(freq_table)"
   ]
  },
  {
   "cell_type": "markdown",
   "metadata": {},
   "source": [
    "### 練習三 (身分證字號驗證系統)\n",
    "- 我國的身分證字號其實是有規則的，要認證身分證字號是否合法需要經過一些步驟，首先要先將開頭的英文字母依照一個代碼表轉換成二位數字，並將轉換後的11位數字一照不同位置的權重(位置一x1,位置二x9,位置三x8,位置四x7,位置五x6,位置六x5,位置七x4,位置八x3,位置九x2,位置十x1,位置十一x1)進行加權總和，如果總和為10的倍數，即合法；反之，為非10的倍數即不合法身分證字號\n",
    "- 我們現在有一個擁有100組身分證字號的檔案，現在要請你試著集合你所學習的python技術完成這100組身分證字號的合法性認證，認證結果格式不拘，只需可以輕觸辨別這組身分證字號是否合法即可\n",
    "- 附件檔案：身分證字號檔案(id_data.csv)，身分證字號開頭英文代碼對照表(身分證字號英文代號對照.csv)"
   ]
  },
  {
   "cell_type": "code",
   "execution_count": 72,
   "metadata": {},
   "outputs": [
    {
     "name": "stdout",
     "output_type": "stream",
     "text": [
      "['H155280947', 'D186703812', 'C151310503', 'I188589879', 'E198004482', 'B107642052', 'R136578563', 'V162576957', 'I173485535', 'A134582015', 'D170289448', 'J105013771', 'O163657532', 'B135173244', 'B174981263', 'F112191209', 'D174313822', 'P168736505', 'H112214889', 'G110472604', 'P142736171', 'Y193820323', 'M180524415', 'C159877435', 'U155329921', 'P169345724', 'T190883913', 'D139838780', 'C195689178', 'S146503386', 'F172300975', 'G110058764', 'E157742588', 'O171789989', 'U105700812', 'T192451703', 'H145170461', 'N133404165', 'Y179946090', 'R161033834', 'B154513260', 'R140682802', 'G144473092', 'H177814864', 'D161283827', 'T136630770', 'A179801826', 'A133254758', 'P116718816', 'U181507238', 'S175460097', 'F172524852', 'E112973389', 'D105120281', 'E187764978', 'S176544159', 'J152102480', 'I150797414', 'B173653274', 'V189335047', 'P157395194', 'B186233603', 'U196854587', 'H179954798', 'H145867537', 'R155696553', 'L141158036', 'D158038557', 'Z106013560', 'B187999310', 'P133535596', 'O166441172', 'I104409022', 'F163289967', 'C155937481', 'I159955458', 'K116687195', 'L128845184', 'J197998108', 'Q143749904', 'O160712328', 'G109210862', 'R109575821', 'G127914320', 'P155405094', 'P121290618', 'O120354411', 'F107006434', 'B157439972', 'M118737095', 'L183806154', 'S185689381', 'F143235614', 'X121946437', 'S163462510', 'A107771661', 'R186178377', 'L152321827', 'M142769625', 'H113543989']\n"
     ]
    }
   ],
   "source": [
    "import csv\n",
    "rows_id = csv.reader(open('id_data.csv','r'))\n",
    "id_arr = []\n",
    "for e in rows_id:\n",
    "    id_arr.append(e[0])\n",
    "print(id_arr)"
   ]
  },
  {
   "cell_type": "code",
   "execution_count": 73,
   "metadata": {},
   "outputs": [
    {
     "name": "stdout",
     "output_type": "stream",
     "text": [
      "{'A': '10', 'B': '11', 'C': '12', 'D': '13', 'E': '14', 'F': '15', 'G': '16', 'H': '17', 'I': '34', 'J': '18', 'K': '19', 'L': '20', 'M': '21', 'N': '22', 'O': '35', 'P': '23', 'Q': '24', 'R': '25', 'S': '26', 'T': '27', 'U': '28', 'V': '29', 'W': '32', 'X': '30', 'Y': '31', 'Z': '33'}\n"
     ]
    }
   ],
   "source": [
    "rows_county = csv.reader(open('身分證字號英文代號對照.csv','r'))\n",
    "county = {}\n",
    "for [c,num] in rows_county:\n",
    "    county[c] = num\n",
    "print(county)"
   ]
  },
  {
   "cell_type": "code",
   "execution_count": 74,
   "metadata": {},
   "outputs": [],
   "source": [
    "def verify(id_num):\n",
    "    weight = (1,9,8,7,6,5,4,3,2,1,1)\n",
    "    arr = list(id_num)\n",
    "    first = arr[0]\n",
    "    arr = list(county[first])+arr\n",
    "    arr.remove(first)\n",
    "    total = 0\n",
    "    for e in range(len(arr)):\n",
    "        total+=int(arr[e])*weight[e]\n",
    "    \n",
    "    if total%10==0:\n",
    "        print(\"此為合法身分證字號\")\n",
    "    else:\n",
    "        print(\"此身分證字號不合法!!!\")"
   ]
  },
  {
   "cell_type": "code",
   "execution_count": 75,
   "metadata": {},
   "outputs": [
    {
     "name": "stdout",
     "output_type": "stream",
     "text": [
      "H155280947 | 此身分證字號不合法!!!\n",
      "D186703812 | 此身分證字號不合法!!!\n",
      "C151310503 | 此為合法身分證字號\n",
      "I188589879 | 此身分證字號不合法!!!\n",
      "E198004482 | 此身分證字號不合法!!!\n",
      "B107642052 | 此身分證字號不合法!!!\n",
      "R136578563 | 此身分證字號不合法!!!\n",
      "V162576957 | 此身分證字號不合法!!!\n",
      "I173485535 | 此身分證字號不合法!!!\n",
      "A134582015 | 此身分證字號不合法!!!\n",
      "D170289448 | 此身分證字號不合法!!!\n",
      "J105013771 | 此身分證字號不合法!!!\n",
      "O163657532 | 此身分證字號不合法!!!\n",
      "B135173244 | 此身分證字號不合法!!!\n",
      "B174981263 | 此身分證字號不合法!!!\n",
      "F112191209 | 此為合法身分證字號\n",
      "D174313822 | 此身分證字號不合法!!!\n",
      "P168736505 | 此身分證字號不合法!!!\n",
      "H112214889 | 此為合法身分證字號\n",
      "G110472604 | 此為合法身分證字號\n",
      "P142736171 | 此身分證字號不合法!!!\n",
      "Y193820323 | 此為合法身分證字號\n",
      "M180524415 | 此身分證字號不合法!!!\n",
      "C159877435 | 此身分證字號不合法!!!\n",
      "U155329921 | 此身分證字號不合法!!!\n",
      "P169345724 | 此身分證字號不合法!!!\n",
      "T190883913 | 此身分證字號不合法!!!\n",
      "D139838780 | 此身分證字號不合法!!!\n",
      "C195689178 | 此身分證字號不合法!!!\n",
      "S146503386 | 此身分證字號不合法!!!\n",
      "F172300975 | 此為合法身分證字號\n",
      "G110058764 | 此身分證字號不合法!!!\n",
      "E157742588 | 此身分證字號不合法!!!\n",
      "O171789989 | 此為合法身分證字號\n",
      "U105700812 | 此身分證字號不合法!!!\n",
      "T192451703 | 此身分證字號不合法!!!\n",
      "H145170461 | 此身分證字號不合法!!!\n",
      "N133404165 | 此身分證字號不合法!!!\n",
      "Y179946090 | 此身分證字號不合法!!!\n",
      "R161033834 | 此身分證字號不合法!!!\n",
      "B154513260 | 此身分證字號不合法!!!\n",
      "R140682802 | 此身分證字號不合法!!!\n",
      "G144473092 | 此身分證字號不合法!!!\n",
      "H177814864 | 此身分證字號不合法!!!\n",
      "D161283827 | 此為合法身分證字號\n",
      "T136630770 | 此身分證字號不合法!!!\n",
      "A179801826 | 此身分證字號不合法!!!\n",
      "A133254758 | 此身分證字號不合法!!!\n",
      "P116718816 | 此身分證字號不合法!!!\n",
      "U181507238 | 此身分證字號不合法!!!\n",
      "S175460097 | 此身分證字號不合法!!!\n",
      "F172524852 | 此身分證字號不合法!!!\n",
      "E112973389 | 此身分證字號不合法!!!\n",
      "D105120281 | 此身分證字號不合法!!!\n",
      "E187764978 | 此身分證字號不合法!!!\n",
      "S176544159 | 此身分證字號不合法!!!\n",
      "J152102480 | 此身分證字號不合法!!!\n",
      "I150797414 | 此身分證字號不合法!!!\n",
      "B173653274 | 此身分證字號不合法!!!\n",
      "V189335047 | 此身分證字號不合法!!!\n",
      "P157395194 | 此身分證字號不合法!!!\n",
      "B186233603 | 此身分證字號不合法!!!\n",
      "U196854587 | 此身分證字號不合法!!!\n",
      "H179954798 | 此身分證字號不合法!!!\n",
      "H145867537 | 此身分證字號不合法!!!\n",
      "R155696553 | 此身分證字號不合法!!!\n",
      "L141158036 | 此身分證字號不合法!!!\n",
      "D158038557 | 此身分證字號不合法!!!\n",
      "Z106013560 | 此身分證字號不合法!!!\n",
      "B187999310 | 此身分證字號不合法!!!\n",
      "P133535596 | 此身分證字號不合法!!!\n",
      "O166441172 | 此身分證字號不合法!!!\n",
      "I104409022 | 此身分證字號不合法!!!\n",
      "F163289967 | 此身分證字號不合法!!!\n",
      "C155937481 | 此身分證字號不合法!!!\n",
      "I159955458 | 此身分證字號不合法!!!\n",
      "K116687195 | 此身分證字號不合法!!!\n",
      "L128845184 | 此身分證字號不合法!!!\n",
      "J197998108 | 此身分證字號不合法!!!\n",
      "Q143749904 | 此身分證字號不合法!!!\n",
      "O160712328 | 此身分證字號不合法!!!\n",
      "G109210862 | 此身分證字號不合法!!!\n",
      "R109575821 | 此身分證字號不合法!!!\n",
      "G127914320 | 此身分證字號不合法!!!\n",
      "P155405094 | 此為合法身分證字號\n",
      "P121290618 | 此身分證字號不合法!!!\n",
      "O120354411 | 此身分證字號不合法!!!\n",
      "F107006434 | 此身分證字號不合法!!!\n",
      "B157439972 | 此身分證字號不合法!!!\n",
      "M118737095 | 此身分證字號不合法!!!\n",
      "L183806154 | 此身分證字號不合法!!!\n",
      "S185689381 | 此身分證字號不合法!!!\n",
      "F143235614 | 此身分證字號不合法!!!\n",
      "X121946437 | 此身分證字號不合法!!!\n",
      "S163462510 | 此身分證字號不合法!!!\n",
      "A107771661 | 此身分證字號不合法!!!\n",
      "R186178377 | 此身分證字號不合法!!!\n",
      "L152321827 | 此身分證字號不合法!!!\n",
      "M142769625 | 此身分證字號不合法!!!\n",
      "H113543989 | 此身分證字號不合法!!!\n"
     ]
    }
   ],
   "source": [
    "for e in id_arr:\n",
    "    print(e,end=' | ')\n",
    "    verify(e)"
   ]
  },
  {
   "cell_type": "code",
   "execution_count": null,
   "metadata": {},
   "outputs": [],
   "source": []
  }
 ],
 "metadata": {
  "kernelspec": {
   "display_name": "Python 3",
   "language": "python",
   "name": "python3"
  },
  "language_info": {
   "codemirror_mode": {
    "name": "ipython",
    "version": 3
   },
   "file_extension": ".py",
   "mimetype": "text/x-python",
   "name": "python",
   "nbconvert_exporter": "python",
   "pygments_lexer": "ipython3",
   "version": "3.7.2"
  }
 },
 "nbformat": 4,
 "nbformat_minor": 2
}
